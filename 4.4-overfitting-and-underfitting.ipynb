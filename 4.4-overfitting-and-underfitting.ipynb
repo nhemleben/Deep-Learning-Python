{
 "cells": [
  {
   "cell_type": "code",
   "execution_count": 1,
   "metadata": {},
   "outputs": [
    {
     "name": "stderr",
     "output_type": "stream",
     "text": [
      "Using TensorFlow backend.\n"
     ]
    },
    {
     "data": {
      "text/plain": [
       "'2.3.1'"
      ]
     },
     "execution_count": 1,
     "metadata": {},
     "output_type": "execute_result"
    }
   ],
   "source": [
    "import keras\n",
    "keras.__version__"
   ]
  },
  {
   "cell_type": "markdown",
   "metadata": {},
   "source": [
    "# Overfitting and underfitting\n",
    "\n",
    "This notebook contains the code samples found in Chapter 3, Section 6 of [Deep Learning with Python](https://www.manning.com/books/deep-learning-with-python?a_aid=keras&a_bid=76564dff). Note that the original text features far more content, in particular further explanations and figures: in this notebook, you will only find source code and related comments.\n",
    "\n",
    "----\n",
    "\n",
    "\n",
    "In all the examples we saw in the previous chapter -- movie review sentiment prediction, topic classification, and house price regression -- \n",
    "we could notice that the performance of our model on the held-out validation data would always peak after a few epochs and would then start \n",
    "degrading, i.e. our model would quickly start to _overfit_ to the training data. Overfitting happens in every single machine learning \n",
    "problem. Learning how to deal with overfitting is essential to mastering machine learning.\n",
    "\n",
    "The fundamental issue in machine learning is the tension between optimization and generalization. \"Optimization\" refers to the process of \n",
    "adjusting a model to get the best performance possible on the training data (the \"learning\" in \"machine learning\"), while \"generalization\" \n",
    "refers to how well the trained model would perform on data it has never seen before. The goal of the game is to get good generalization, of \n",
    "course, but you do not control generalization; you can only adjust the model based on its training data.\n",
    "\n",
    "At the beginning of training, optimization and generalization are correlated: the lower your loss on training data, the lower your loss on \n",
    "test data. While this is happening, your model is said to be _under-fit_: there is still progress to be made; the network hasn't yet \n",
    "modeled all relevant patterns in the training data. But after a certain number of iterations on the training data, generalization stops \n",
    "improving, validation metrics stall then start degrading: the model is then starting to over-fit, i.e. is it starting to learn patterns \n",
    "that are specific to the training data but that are misleading or irrelevant when it comes to new data.\n",
    "\n",
    "To prevent a model from learning misleading or irrelevant patterns found in the training data, _the best solution is of course to get \n",
    "more training data_. A model trained on more data will naturally generalize better. When that is no longer possible, the next best solution \n",
    "is to modulate the quantity of information that your model is allowed to store, or to add constraints on what information it is allowed to \n",
    "store. If a network can only afford to memorize a small number of patterns, the optimization process will force it to focus on the most \n",
    "prominent patterns, which have a better chance of generalizing well.\n",
    "\n",
    "The processing of fighting overfitting in this way is called _regularization_. Let's review some of the most common regularization \n",
    "techniques, and let's apply them in practice to improve our movie classification model from  the previous chapter."
   ]
  },
  {
   "cell_type": "markdown",
   "metadata": {},
   "source": [
    "Note: in this notebook we will be using the IMDB test set as our validation set. It doesn't matter in this context.\n",
    "\n",
    "Let's prepare the data using the code from Chapter 3, Section 5:"
   ]
  },
  {
   "cell_type": "code",
   "execution_count": 2,
   "metadata": {},
   "outputs": [],
   "source": [
    "from keras.datasets import imdb\n",
    "import numpy as np\n",
    "\n",
    "(train_data, train_labels), (test_data, test_labels) = imdb.load_data(num_words=10000)\n",
    "\n",
    "def vectorize_sequences(sequences, dimension=10000):\n",
    "    # Create an all-zero matrix of shape (len(sequences), dimension)\n",
    "    results = np.zeros((len(sequences), dimension))\n",
    "    for i, sequence in enumerate(sequences):\n",
    "        results[i, sequence] = 1.  # set specific indices of results[i] to 1s\n",
    "    return results\n",
    "\n",
    "# Our vectorized training data\n",
    "x_train = vectorize_sequences(train_data)\n",
    "# Our vectorized test data\n",
    "x_test = vectorize_sequences(test_data)\n",
    "# Our vectorized labels\n",
    "y_train = np.asarray(train_labels).astype('float32')\n",
    "y_test = np.asarray(test_labels).astype('float32')"
   ]
  },
  {
   "cell_type": "markdown",
   "metadata": {},
   "source": [
    "# Fighting overfitting\n",
    "\n",
    "## Reducing the network's size\n",
    "\n",
    "\n",
    "The simplest way to prevent overfitting is to reduce the size of the model, i.e. the number of learnable parameters in the model (which is \n",
    "determined by the number of layers and the number of units per layer). In deep learning, the number of learnable parameters in a model is \n",
    "often referred to as the model's \"capacity\". Intuitively, a model with more parameters will have more \"memorization capacity\" and therefore \n",
    "will be able to easily learn a perfect dictionary-like mapping between training samples and their targets, a mapping without any \n",
    "generalization power. For instance, a model with 500,000 binary parameters could easily be made to learn the class of every digits in the \n",
    "MNIST training set: we would only need 10 binary parameters for each of the 50,000 digits. Such a model would be useless for classifying \n",
    "new digit samples. Always keep this in mind: deep learning models tend to be good at fitting to the training data, but the real challenge \n",
    "is generalization, not fitting.\n",
    "\n",
    "On the other hand, if the network has limited memorization resources, it will not be able to learn this mapping as easily, and thus, in \n",
    "order to minimize its loss, it will have to resort to learning compressed representations that have predictive power regarding the targets \n",
    "-- precisely the type of representations that we are interested in. At the same time, keep in mind that you should be using models that have \n",
    "enough parameters that they won't be underfitting: your model shouldn't be starved for memorization resources. There is a compromise to be \n",
    "found between \"too much capacity\" and \"not enough capacity\".\n",
    "\n",
    "Unfortunately, there is no magical formula to determine what the right number of layers is, or what the right size for each layer is. You \n",
    "will have to evaluate an array of different architectures (on your validation set, not on your test set, of course) in order to find the \n",
    "right model size for your data. The general workflow to find an appropriate model size is to start with relatively few layers and \n",
    "parameters, and start increasing the size of the layers or adding new layers until you see diminishing returns with regard to the \n",
    "validation loss.\n",
    "\n",
    "Let's try this on our movie review classification network. Our original network was as such:"
   ]
  },
  {
   "cell_type": "code",
   "execution_count": 3,
   "metadata": {},
   "outputs": [],
   "source": [
    "from keras import models\n",
    "from keras import layers\n",
    "\n",
    "original_model = models.Sequential()\n",
    "original_model.add(layers.Dense(16, activation='relu', input_shape=(10000,)))\n",
    "original_model.add(layers.Dense(16, activation='relu'))\n",
    "original_model.add(layers.Dense(1, activation='sigmoid'))\n",
    "\n",
    "original_model.compile(optimizer='rmsprop',\n",
    "                       loss='binary_crossentropy',\n",
    "                       metrics=['acc'])"
   ]
  },
  {
   "cell_type": "markdown",
   "metadata": {},
   "source": [
    "Now let's try to replace it with this smaller network:"
   ]
  },
  {
   "cell_type": "code",
   "execution_count": 4,
   "metadata": {},
   "outputs": [],
   "source": [
    "smaller_model = models.Sequential()\n",
    "smaller_model.add(layers.Dense(4, activation='relu', input_shape=(10000,)))\n",
    "smaller_model.add(layers.Dense(4, activation='relu'))\n",
    "smaller_model.add(layers.Dense(1, activation='sigmoid'))\n",
    "\n",
    "smaller_model.compile(optimizer='rmsprop',\n",
    "                      loss='binary_crossentropy',\n",
    "                      metrics=['acc'])"
   ]
  },
  {
   "cell_type": "markdown",
   "metadata": {},
   "source": [
    "\n",
    "Here's a comparison of the validation losses of the original network and the smaller network. The dots are the validation loss values of \n",
    "the smaller network, and the crosses are the initial network (remember: a lower validation loss signals a better model)."
   ]
  },
  {
   "cell_type": "code",
   "execution_count": 5,
   "metadata": {},
   "outputs": [
    {
     "name": "stdout",
     "output_type": "stream",
     "text": [
      "Train on 25000 samples, validate on 25000 samples\n",
      "Epoch 1/20\n",
      "25000/25000 [==============================] - 2s 65us/step - loss: 0.4638 - acc: 0.8119 - val_loss: 0.3421 - val_acc: 0.8751\n",
      "Epoch 2/20\n",
      "25000/25000 [==============================] - 2s 61us/step - loss: 0.2589 - acc: 0.9088 - val_loss: 0.3151 - val_acc: 0.8722\n",
      "Epoch 3/20\n",
      "25000/25000 [==============================] - 2s 60us/step - loss: 0.1993 - acc: 0.9295 - val_loss: 0.2889 - val_acc: 0.8856\n",
      "Epoch 4/20\n",
      "25000/25000 [==============================] - 1s 60us/step - loss: 0.1672 - acc: 0.9393 - val_loss: 0.3047 - val_acc: 0.8802\n",
      "Epoch 5/20\n",
      "25000/25000 [==============================] - 1s 60us/step - loss: 0.1423 - acc: 0.9506 - val_loss: 0.3169 - val_acc: 0.8781\n",
      "Epoch 6/20\n",
      "25000/25000 [==============================] - 1s 60us/step - loss: 0.1194 - acc: 0.9592 - val_loss: 0.3512 - val_acc: 0.8704\n",
      "Epoch 7/20\n",
      "25000/25000 [==============================] - 1s 60us/step - loss: 0.1088 - acc: 0.9613 - val_loss: 0.3679 - val_acc: 0.8691\n",
      "Epoch 8/20\n",
      "25000/25000 [==============================] - 1s 59us/step - loss: 0.0930 - acc: 0.9688 - val_loss: 0.3926 - val_acc: 0.8686\n",
      "Epoch 9/20\n",
      "25000/25000 [==============================] - 1s 59us/step - loss: 0.0784 - acc: 0.9754 - val_loss: 0.4348 - val_acc: 0.8614\n",
      "Epoch 10/20\n",
      "25000/25000 [==============================] - 1s 60us/step - loss: 0.0717 - acc: 0.9767 - val_loss: 0.4700 - val_acc: 0.8574\n",
      "Epoch 11/20\n",
      "25000/25000 [==============================] - 1s 60us/step - loss: 0.0583 - acc: 0.9832 - val_loss: 0.4826 - val_acc: 0.8610\n",
      "Epoch 12/20\n",
      "25000/25000 [==============================] - 1s 59us/step - loss: 0.0517 - acc: 0.9845 - val_loss: 0.5190 - val_acc: 0.8589\n",
      "Epoch 13/20\n",
      "25000/25000 [==============================] - 1s 59us/step - loss: 0.0436 - acc: 0.9877 - val_loss: 0.5493 - val_acc: 0.8577\n",
      "Epoch 14/20\n",
      "25000/25000 [==============================] - 2s 60us/step - loss: 0.0369 - acc: 0.9891 - val_loss: 0.5945 - val_acc: 0.8519\n",
      "Epoch 15/20\n",
      "25000/25000 [==============================] - 1s 59us/step - loss: 0.0311 - acc: 0.9918 - val_loss: 0.6277 - val_acc: 0.8523\n",
      "Epoch 16/20\n",
      "25000/25000 [==============================] - 1s 59us/step - loss: 0.0228 - acc: 0.9949 - val_loss: 0.8562 - val_acc: 0.8416\n",
      "Epoch 17/20\n",
      "25000/25000 [==============================] - 1s 60us/step - loss: 0.0249 - acc: 0.9933 - val_loss: 0.6988 - val_acc: 0.8540\n",
      "Epoch 18/20\n",
      "25000/25000 [==============================] - 2s 60us/step - loss: 0.0183 - acc: 0.9950 - val_loss: 0.7337 - val_acc: 0.8538\n",
      "Epoch 19/20\n",
      "25000/25000 [==============================] - 1s 60us/step - loss: 0.0156 - acc: 0.9962 - val_loss: 0.7706 - val_acc: 0.8530\n",
      "Epoch 20/20\n",
      "25000/25000 [==============================] - 1s 60us/step - loss: 0.0098 - acc: 0.9985 - val_loss: 0.8150 - val_acc: 0.8520\n"
     ]
    }
   ],
   "source": [
    "original_hist = original_model.fit(x_train, y_train,\n",
    "                                   epochs=20,\n",
    "                                   batch_size=512,\n",
    "                                   validation_data=(x_test, y_test))"
   ]
  },
  {
   "cell_type": "code",
   "execution_count": 6,
   "metadata": {},
   "outputs": [
    {
     "name": "stdout",
     "output_type": "stream",
     "text": [
      "Train on 25000 samples, validate on 25000 samples\n",
      "Epoch 1/20\n",
      "25000/25000 [==============================] - 1s 47us/step - loss: 0.5585 - acc: 0.7701 - val_loss: 0.4537 - val_acc: 0.8632\n",
      "Epoch 2/20\n",
      "25000/25000 [==============================] - 1s 45us/step - loss: 0.3645 - acc: 0.8933 - val_loss: 0.3489 - val_acc: 0.8779\n",
      "Epoch 3/20\n",
      "25000/25000 [==============================] - 1s 44us/step - loss: 0.2716 - acc: 0.9168 - val_loss: 0.2991 - val_acc: 0.8896\n",
      "Epoch 4/20\n",
      "25000/25000 [==============================] - 1s 43us/step - loss: 0.2225 - acc: 0.9286 - val_loss: 0.2831 - val_acc: 0.8910\n",
      "Epoch 5/20\n",
      "25000/25000 [==============================] - 1s 43us/step - loss: 0.1924 - acc: 0.9369 - val_loss: 0.2793 - val_acc: 0.8884\n",
      "Epoch 6/20\n",
      "25000/25000 [==============================] - 1s 43us/step - loss: 0.1705 - acc: 0.9426 - val_loss: 0.2829 - val_acc: 0.8866\n",
      "Epoch 7/20\n",
      "25000/25000 [==============================] - 1s 43us/step - loss: 0.1534 - acc: 0.9498 - val_loss: 0.2907 - val_acc: 0.8841\n",
      "Epoch 8/20\n",
      "25000/25000 [==============================] - 1s 43us/step - loss: 0.1389 - acc: 0.9558 - val_loss: 0.3066 - val_acc: 0.8791\n",
      "Epoch 9/20\n",
      "25000/25000 [==============================] - 1s 44us/step - loss: 0.1267 - acc: 0.9593 - val_loss: 0.3184 - val_acc: 0.8770\n",
      "Epoch 10/20\n",
      "25000/25000 [==============================] - 1s 43us/step - loss: 0.1158 - acc: 0.9637 - val_loss: 0.3402 - val_acc: 0.8736\n",
      "Epoch 11/20\n",
      "25000/25000 [==============================] - 1s 44us/step - loss: 0.1061 - acc: 0.9672 - val_loss: 0.3382 - val_acc: 0.8738\n",
      "Epoch 12/20\n",
      "25000/25000 [==============================] - 1s 44us/step - loss: 0.0967 - acc: 0.9710 - val_loss: 0.3516 - val_acc: 0.8720\n",
      "Epoch 13/20\n",
      "25000/25000 [==============================] - 1s 44us/step - loss: 0.0888 - acc: 0.9734 - val_loss: 0.3691 - val_acc: 0.8694\n",
      "Epoch 14/20\n",
      "25000/25000 [==============================] - 1s 43us/step - loss: 0.0801 - acc: 0.9775 - val_loss: 0.3901 - val_acc: 0.8670\n",
      "Epoch 15/20\n",
      "25000/25000 [==============================] - 1s 44us/step - loss: 0.0728 - acc: 0.9800 - val_loss: 0.4034 - val_acc: 0.8661\n",
      "Epoch 16/20\n",
      "25000/25000 [==============================] - 1s 43us/step - loss: 0.0659 - acc: 0.9824 - val_loss: 0.4331 - val_acc: 0.8616\n",
      "Epoch 17/20\n",
      "25000/25000 [==============================] - 1s 43us/step - loss: 0.0600 - acc: 0.9849 - val_loss: 0.4412 - val_acc: 0.8634\n",
      "Epoch 18/20\n",
      "25000/25000 [==============================] - 1s 44us/step - loss: 0.0537 - acc: 0.9869 - val_loss: 0.4755 - val_acc: 0.8582\n",
      "Epoch 19/20\n",
      "25000/25000 [==============================] - 1s 44us/step - loss: 0.0478 - acc: 0.9885 - val_loss: 0.4921 - val_acc: 0.8584\n",
      "Epoch 20/20\n",
      "25000/25000 [==============================] - 1s 44us/step - loss: 0.0430 - acc: 0.9898 - val_loss: 0.5240 - val_acc: 0.8549\n"
     ]
    }
   ],
   "source": [
    "smaller_model_hist = smaller_model.fit(x_train, y_train,\n",
    "                                       epochs=20,\n",
    "                                       batch_size=512,\n",
    "                                       validation_data=(x_test, y_test))"
   ]
  },
  {
   "cell_type": "code",
   "execution_count": 7,
   "metadata": {},
   "outputs": [],
   "source": [
    "epochs = range(1, 21)\n",
    "original_val_loss = original_hist.history['val_loss']\n",
    "smaller_model_val_loss = smaller_model_hist.history['val_loss']"
   ]
  },
  {
   "cell_type": "code",
   "execution_count": 8,
   "metadata": {},
   "outputs": [
    {
     "data": {
      "image/png": "[encoded data removed]",
      "text/plain": [
       "<Figure size 432x288 with 1 Axes>"
      ]
     },
     "metadata": {
      "needs_background": "light"
     },
     "output_type": "display_data"
    }
   ],
   "source": [
    "import matplotlib.pyplot as plt\n",
    "\n",
    "# b+ is for \"blue cross\"\n",
    "plt.plot(epochs, original_val_loss, 'b+', label='Original model')\n",
    "# \"bo\" is for \"blue dot\"\n",
    "plt.plot(epochs, smaller_model_val_loss, 'bo', label='Smaller model')\n",
    "plt.xlabel('Epochs')\n",
    "plt.ylabel('Validation loss')\n",
    "plt.legend()\n",
    "\n",
    "plt.show()"
   ]
  },
  {
   "cell_type": "markdown",
   "metadata": {},
   "source": [
    "\n",
    "As you can see, the smaller network starts overfitting later than the reference one (after 6 epochs rather than 4) and its performance \n",
    "degrades much more slowly once it starts overfitting.\n",
    "\n",
    "Now, for kicks, let's add to this benchmark a network that has much more capacity, far more than the problem would warrant:"
   ]
  },
  {
   "cell_type": "code",
   "execution_count": 9,
   "metadata": {},
   "outputs": [],
   "source": [
    "bigger_model = models.Sequential()\n",
    "bigger_model.add(layers.Dense(512, activation='relu', input_shape=(10000,)))\n",
    "bigger_model.add(layers.Dense(512, activation='relu'))\n",
    "bigger_model.add(layers.Dense(1, activation='sigmoid'))\n",
    "\n",
    "bigger_model.compile(optimizer='rmsprop',\n",
    "                     loss='binary_crossentropy',\n",
    "                     metrics=['acc'])"
   ]
  },
  {
   "cell_type": "code",
   "execution_count": 10,
   "metadata": {},
   "outputs": [
    {
     "name": "stdout",
     "output_type": "stream",
     "text": [
      "Train on 25000 samples, validate on 25000 samples\n",
      "Epoch 1/20\n",
      "25000/25000 [==============================] - 3s 131us/step - loss: 0.4621 - acc: 0.7918 - val_loss: 0.3294 - val_acc: 0.8625\n",
      "Epoch 2/20\n",
      "25000/25000 [==============================] - 3s 126us/step - loss: 0.2259 - acc: 0.9105 - val_loss: 0.3362 - val_acc: 0.8605\n",
      "Epoch 3/20\n",
      "25000/25000 [==============================] - 3s 127us/step - loss: 0.1404 - acc: 0.9485 - val_loss: 0.2886 - val_acc: 0.8834\n",
      "Epoch 4/20\n",
      "25000/25000 [==============================] - 3s 130us/step - loss: 0.0594 - acc: 0.9812 - val_loss: 1.3344 - val_acc: 0.6912\n",
      "Epoch 5/20\n",
      "25000/25000 [==============================] - 3s 131us/step - loss: 0.0551 - acc: 0.9837 - val_loss: 0.4465 - val_acc: 0.8832\n",
      "Epoch 6/20\n",
      "25000/25000 [==============================] - 3s 128us/step - loss: 0.0508 - acc: 0.9895 - val_loss: 0.4062 - val_acc: 0.8812\n",
      "Epoch 7/20\n",
      "25000/25000 [==============================] - 3s 128us/step - loss: 0.0029 - acc: 0.9998 - val_loss: 0.6868 - val_acc: 0.8820\n",
      "Epoch 8/20\n",
      "25000/25000 [==============================] - 3s 126us/step - loss: 0.0998 - acc: 0.9902 - val_loss: 0.6194 - val_acc: 0.8795\n",
      "Epoch 9/20\n",
      "25000/25000 [==============================] - 3s 127us/step - loss: 3.3428e-04 - acc: 1.0000 - val_loss: 0.7886 - val_acc: 0.8798\n",
      "Epoch 10/20\n",
      "25000/25000 [==============================] - 3s 129us/step - loss: 6.4571e-05 - acc: 1.0000 - val_loss: 0.9684 - val_acc: 0.8795\n",
      "Epoch 11/20\n",
      "25000/25000 [==============================] - 3s 127us/step - loss: 0.1177 - acc: 0.9887 - val_loss: 0.8649 - val_acc: 0.8692\n",
      "Epoch 12/20\n",
      "25000/25000 [==============================] - 3s 131us/step - loss: 9.8096e-05 - acc: 1.0000 - val_loss: 0.8846 - val_acc: 0.8764\n",
      "Epoch 13/20\n",
      "25000/25000 [==============================] - 3s 129us/step - loss: 1.9759e-05 - acc: 1.0000 - val_loss: 0.9776 - val_acc: 0.8786\n",
      "Epoch 14/20\n",
      "25000/25000 [==============================] - 3s 129us/step - loss: 4.7956e-06 - acc: 1.0000 - val_loss: 1.1234 - val_acc: 0.8789\n",
      "Epoch 15/20\n",
      "25000/25000 [==============================] - 3s 126us/step - loss: 9.3597e-07 - acc: 1.0000 - val_loss: 1.2565 - val_acc: 0.8786\n",
      "Epoch 16/20\n",
      "25000/25000 [==============================] - 3s 130us/step - loss: 2.0225e-07 - acc: 1.0000 - val_loss: 1.3855 - val_acc: 0.8785\n",
      "Epoch 17/20\n",
      "25000/25000 [==============================] - 3s 131us/step - loss: 4.2602e-08 - acc: 1.0000 - val_loss: 1.4935 - val_acc: 0.8786\n",
      "Epoch 18/20\n",
      "25000/25000 [==============================] - 3s 133us/step - loss: 1.8573e-08 - acc: 1.0000 - val_loss: 1.5417 - val_acc: 0.8786\n",
      "Epoch 19/20\n",
      "25000/25000 [==============================] - 3s 138us/step - loss: 1.1804e-08 - acc: 1.0000 - val_loss: 1.5756 - val_acc: 0.8785\n",
      "Epoch 20/20\n",
      "25000/25000 [==============================] - 3s 134us/step - loss: 8.7182e-09 - acc: 1.0000 - val_loss: 1.5984 - val_acc: 0.8786\n"
     ]
    }
   ],
   "source": [
    "bigger_model_hist = bigger_model.fit(x_train, y_train,\n",
    "                                     epochs=20,\n",
    "                                     batch_size=512,\n",
    "                                     validation_data=(x_test, y_test))"
   ]
  },
  {
   "cell_type": "markdown",
   "metadata": {},
   "source": [
    "Here's how the bigger network fares compared to the reference one. The dots are the validation loss values of the bigger network, and the \n",
    "crosses are the initial network."
   ]
  },
  {
   "cell_type": "code",
   "execution_count": 11,
   "metadata": {},
   "outputs": [
    {
     "data": {
      "image/png": "[encoded data removed]",
      "text/plain": [
       "<Figure size 432x288 with 1 Axes>"
      ]
     },
     "metadata": {
      "needs_background": "light"
     },
     "output_type": "display_data"
    }
   ],
   "source": [
    "bigger_model_val_loss = bigger_model_hist.history['val_loss']\n",
    "\n",
    "plt.plot(epochs, original_val_loss, 'b+', label='Original model')\n",
    "plt.plot(epochs, bigger_model_val_loss, 'bo', label='Bigger model')\n",
    "plt.xlabel('Epochs')\n",
    "plt.ylabel('Validation loss')\n",
    "plt.legend()\n",
    "\n",
    "plt.show()"
   ]
  },
  {
   "cell_type": "markdown",
   "metadata": {},
   "source": [
    "\n",
    "The bigger network starts overfitting almost right away, after just one epoch, and overfits much more severely. Its validation loss is also \n",
    "more noisy.\n",
    "\n",
    "Meanwhile, here are the training losses for our two networks:"
   ]
  },
  {
   "cell_type": "code",
   "execution_count": 12,
   "metadata": {},
   "outputs": [
    {
     "data": {
      "image/png": "[encoded data removed]",
      "text/plain": [
       "<Figure size 432x288 with 1 Axes>"
      ]
     },
     "metadata": {
      "needs_background": "light"
     },
     "output_type": "display_data"
    }
   ],
   "source": [
    "original_train_loss = original_hist.history['loss']\n",
    "bigger_model_train_loss = bigger_model_hist.history['loss']\n",
    "\n",
    "plt.plot(epochs, original_train_loss, 'b+', label='Original model')\n",
    "plt.plot(epochs, bigger_model_train_loss, 'bo', label='Bigger model')\n",
    "plt.xlabel('Epochs')\n",
    "plt.ylabel('Training loss')\n",
    "plt.legend()\n",
    "\n",
    "plt.show()"
   ]
  },
  {
   "cell_type": "markdown",
   "metadata": {},
   "source": [
    "As you can see, the bigger network gets its training loss near zero very quickly. The more capacity the network has, the quicker it will be \n",
    "able to model the training data (resulting in a low training loss), but the more susceptible it is to overfitting (resulting in a large \n",
    "difference between the training and validation loss)."
   ]
  },
  {
   "cell_type": "markdown",
   "metadata": {},
   "source": [
    "## Adding weight regularization\n",
    "\n",
    "\n",
    "You may be familiar with _Occam's Razor_ principle: given two explanations for something, the explanation most likely to be correct is the \n",
    "\"simplest\" one, the one that makes the least amount of assumptions. This also applies to the models learned by neural networks: given some \n",
    "training data and a network architecture, there are multiple sets of weights values (multiple _models_) that could explain the data, and \n",
    "simpler models are less likely to overfit than complex ones.\n",
    "\n",
    "A \"simple model\" in this context is a model where the distribution of parameter values has less entropy (or a model with fewer \n",
    "parameters altogether, as we saw in the section above). Thus a common way to mitigate overfitting is to put constraints on the complexity \n",
    "of a network by forcing its weights to only take small values, which makes the distribution of weight values more \"regular\". This is called \n",
    "\"weight regularization\", and it is done by adding to the loss function of the network a _cost_ associated with having large weights. This \n",
    "cost comes in two flavors:\n",
    "\n",
    "* L1 regularization, where the cost added is proportional to the _absolute value of the weights coefficients_ (i.e. to what is called the \n",
    "\"L1 norm\" of the weights).\n",
    "* L2 regularization, where the cost added is proportional to the _square of the value of the weights coefficients_ (i.e. to what is called \n",
    "the \"L2 norm\" of the weights). L2 regularization is also called _weight decay_ in the context of neural networks. Don't let the different \n",
    "name confuse you: weight decay is mathematically the exact same as L2 regularization.\n",
    "\n",
    "In Keras, weight regularization is added by passing _weight regularizer instances_ to layers as keyword arguments. Let's add L2 weight \n",
    "regularization to our movie review classification network:"
   ]
  },
  {
   "cell_type": "code",
   "execution_count": 13,
   "metadata": {},
   "outputs": [],
   "source": [
    "from keras import regularizers\n",
    "\n",
    "l2_model = models.Sequential()\n",
    "l2_model.add(layers.Dense(16, kernel_regularizer=regularizers.l2(0.001),\n",
    "                          activation='relu', input_shape=(10000,)))\n",
    "l2_model.add(layers.Dense(16, kernel_regularizer=regularizers.l2(0.001),\n",
    "                          activation='relu'))\n",
    "l2_model.add(layers.Dense(1, activation='sigmoid'))"
   ]
  },
  {
   "cell_type": "code",
   "execution_count": 14,
   "metadata": {},
   "outputs": [],
   "source": [
    "l2_model.compile(optimizer='rmsprop',\n",
    "                 loss='binary_crossentropy',\n",
    "                 metrics=['acc'])"
   ]
  },
  {
   "cell_type": "markdown",
   "metadata": {},
   "source": [
    "`l2(0.001)` means that every coefficient in the weight matrix of the layer will add `0.001 * weight_coefficient_value` to the total loss of \n",
    "the network. Note that because this penalty is _only added at training time_, the loss for this network will be much higher at training \n",
    "than at test time.\n",
    "\n",
    "Here's the impact of our L2 regularization penalty:"
   ]
  },
  {
   "cell_type": "code",
   "execution_count": 15,
   "metadata": {},
   "outputs": [
    {
     "name": "stdout",
     "output_type": "stream",
     "text": [
      "Train on 25000 samples, validate on 25000 samples\n",
      "Epoch 1/20\n",
      "25000/25000 [==============================] - 1s 46us/step - loss: 0.5298 - acc: 0.7980 - val_loss: 0.4236 - val_acc: 0.8556\n",
      "Epoch 2/20\n",
      "25000/25000 [==============================] - 1s 43us/step - loss: 0.3288 - acc: 0.9012 - val_loss: 0.3426 - val_acc: 0.8869\n",
      "Epoch 3/20\n",
      "25000/25000 [==============================] - 1s 43us/step - loss: 0.2775 - acc: 0.9175 - val_loss: 0.3293 - val_acc: 0.8896\n",
      "Epoch 4/20\n",
      "25000/25000 [==============================] - 1s 43us/step - loss: 0.2566 - acc: 0.9249 - val_loss: 0.3359 - val_acc: 0.8856\n",
      "Epoch 5/20\n",
      "25000/25000 [==============================] - 1s 44us/step - loss: 0.2423 - acc: 0.9330 - val_loss: 0.3568 - val_acc: 0.8771\n",
      "Epoch 6/20\n",
      "25000/25000 [==============================] - 1s 44us/step - loss: 0.2321 - acc: 0.9359 - val_loss: 0.3657 - val_acc: 0.8747\n",
      "Epoch 7/20\n",
      "25000/25000 [==============================] - 1s 44us/step - loss: 0.2268 - acc: 0.9372 - val_loss: 0.3603 - val_acc: 0.8802\n",
      "Epoch 8/20\n",
      "25000/25000 [==============================] - 1s 44us/step - loss: 0.2185 - acc: 0.9410 - val_loss: 0.3642 - val_acc: 0.8761\n",
      "Epoch 9/20\n",
      "25000/25000 [==============================] - 1s 43us/step - loss: 0.2150 - acc: 0.9425 - val_loss: 0.3827 - val_acc: 0.8743\n",
      "Epoch 10/20\n",
      "25000/25000 [==============================] - 1s 43us/step - loss: 0.2113 - acc: 0.9421 - val_loss: 0.3811 - val_acc: 0.8752\n",
      "Epoch 11/20\n",
      "25000/25000 [==============================] - 1s 44us/step - loss: 0.2090 - acc: 0.9441 - val_loss: 0.3790 - val_acc: 0.8745\n",
      "Epoch 12/20\n",
      "25000/25000 [==============================] - 1s 44us/step - loss: 0.2017 - acc: 0.9487 - val_loss: 0.3866 - val_acc: 0.8725\n",
      "Epoch 13/20\n",
      "25000/25000 [==============================] - 1s 43us/step - loss: 0.2006 - acc: 0.9474 - val_loss: 0.4160 - val_acc: 0.8631\n",
      "Epoch 14/20\n",
      "25000/25000 [==============================] - 1s 43us/step - loss: 0.1979 - acc: 0.9494 - val_loss: 0.4031 - val_acc: 0.8687\n",
      "Epoch 15/20\n",
      "25000/25000 [==============================] - 1s 43us/step - loss: 0.1950 - acc: 0.9498 - val_loss: 0.3949 - val_acc: 0.8733\n",
      "Epoch 16/20\n",
      "25000/25000 [==============================] - 1s 44us/step - loss: 0.1910 - acc: 0.9518 - val_loss: 0.4013 - val_acc: 0.8735\n",
      "Epoch 17/20\n",
      "25000/25000 [==============================] - 1s 43us/step - loss: 0.1908 - acc: 0.9491 - val_loss: 0.4110 - val_acc: 0.8733\n",
      "Epoch 18/20\n",
      "25000/25000 [==============================] - 1s 43us/step - loss: 0.1890 - acc: 0.9524 - val_loss: 0.4179 - val_acc: 0.8712\n",
      "Epoch 19/20\n",
      "25000/25000 [==============================] - 1s 43us/step - loss: 0.1812 - acc: 0.9550 - val_loss: 0.4097 - val_acc: 0.8724\n",
      "Epoch 20/20\n",
      "25000/25000 [==============================] - 1s 43us/step - loss: 0.1805 - acc: 0.9549 - val_loss: 0.4146 - val_acc: 0.8714\n"
     ]
    }
   ],
   "source": [
    "l2_model_hist = l2_model.fit(x_train, y_train,\n",
    "                             epochs=20,\n",
    "                             batch_size=512,\n",
    "                             validation_data=(x_test, y_test))"
   ]
  },
  {
   "cell_type": "code",
   "execution_count": 16,
   "metadata": {},
   "outputs": [
    {
     "data": {
      "image/png": "[encoded data removed]",
      "text/plain": [
       "<Figure size 432x288 with 1 Axes>"
      ]
     },
     "metadata": {
      "needs_background": "light"
     },
     "output_type": "display_data"
    }
   ],
   "source": [
    "l2_model_val_loss = l2_model_hist.history['val_loss']\n",
    "\n",
    "plt.plot(epochs, original_val_loss, 'b+', label='Original model')\n",
    "plt.plot(epochs, l2_model_val_loss, 'bo', label='L2-regularized model')\n",
    "plt.xlabel('Epochs')\n",
    "plt.ylabel('Validation loss')\n",
    "plt.legend()\n",
    "\n",
    "plt.show()"
   ]
  },
  {
   "cell_type": "markdown",
   "metadata": {},
   "source": [
    "\n",
    "\n",
    "As you can see, the model with L2 regularization (dots) has become much more resistant to overfitting than the reference model (crosses), \n",
    "even though both models have the same number of parameters.\n",
    "\n",
    "As alternatives to L2 regularization, you could use one of the following Keras weight regularizers:"
   ]
  },
  {
   "cell_type": "code",
   "execution_count": 17,
   "metadata": {},
   "outputs": [
    {
     "data": {
      "text/plain": [
       "<keras.regularizers.L1L2 at 0x7f17f669d4e0>"
      ]
     },
     "execution_count": 17,
     "metadata": {},
     "output_type": "execute_result"
    }
   ],
   "source": [
    "from keras import regularizers\n",
    "\n",
    "# L1 regularization\n",
    "regularizers.l1(0.001)\n",
    "\n",
    "# L1 and L2 regularization at the same time\n",
    "regularizers.l1_l2(l1=0.001, l2=0.001)"
   ]
  },
  {
   "cell_type": "markdown",
   "metadata": {},
   "source": [
    "## Adding dropout\n",
    "\n",
    "\n",
    "Dropout is one of the most effective and most commonly used regularization techniques for neural networks, developed by Hinton and his \n",
    "students at the University of Toronto. Dropout, applied to a layer, consists of randomly \"dropping out\" (i.e. setting to zero) a number of \n",
    "output features of the layer during training. Let's say a given layer would normally have returned a vector `[0.2, 0.5, 1.3, 0.8, 1.1]` for a \n",
    "given input sample during training; after applying dropout, this vector will have a few zero entries distributed at random, e.g. `[0, 0.5, \n",
    "1.3, 0, 1.1]`. The \"dropout rate\" is the fraction of the features that are being zeroed-out; it is usually set between 0.2 and 0.5. At test \n",
    "time, no units are dropped out, and instead the layer's output values are scaled down by a factor equal to the dropout rate, so as to \n",
    "balance for the fact that more units are active than at training time.\n",
    "\n",
    "Consider a Numpy matrix containing the output of a layer, `layer_output`, of shape `(batch_size, features)`. At training time, we would be \n",
    "zero-ing out at random a fraction of the values in the matrix:"
   ]
  },
  {
   "cell_type": "code",
   "execution_count": 18,
   "metadata": {},
   "outputs": [
    {
     "ename": "NameError",
     "evalue": "name 'layer_output' is not defined",
     "output_type": "error",
     "traceback": [
      "\u001b[0;31m---------------------------------------------------------------------------\u001b[0m",
      "\u001b[0;31mNameError\u001b[0m                                 Traceback (most recent call last)",
      "\u001b[0;32m<ipython-input-18-f1f187ff4a2c>\u001b[0m in \u001b[0;36m<module>\u001b[0;34m\u001b[0m\n\u001b[1;32m      1\u001b[0m \u001b[0;31m# At training time: we drop out 50% of the units in the output\u001b[0m\u001b[0;34m\u001b[0m\u001b[0;34m\u001b[0m\u001b[0;34m\u001b[0m\u001b[0m\n\u001b[0;32m----> 2\u001b[0;31m \u001b[0mlayer_output\u001b[0m \u001b[0;34m*=\u001b[0m \u001b[0mnp\u001b[0m\u001b[0;34m.\u001b[0m\u001b[0mrandint\u001b[0m\u001b[0;34m(\u001b[0m\u001b[0;36m0\u001b[0m\u001b[0;34m,\u001b[0m \u001b[0mhigh\u001b[0m\u001b[0;34m=\u001b[0m\u001b[0;36m2\u001b[0m\u001b[0;34m,\u001b[0m \u001b[0msize\u001b[0m\u001b[0;34m=\u001b[0m\u001b[0mlayer_output\u001b[0m\u001b[0;34m.\u001b[0m\u001b[0mshape\u001b[0m\u001b[0;34m)\u001b[0m\u001b[0;34m\u001b[0m\u001b[0;34m\u001b[0m\u001b[0m\n\u001b[0m",
      "\u001b[0;31mNameError\u001b[0m: name 'layer_output' is not defined"
     ]
    }
   ],
   "source": [
    "# At training time: we drop out 50% of the units in the output\n",
    "layer_output *= np.randint(0, high=2, size=layer_output.shape)"
   ]
  },
  {
   "cell_type": "markdown",
   "metadata": {},
   "source": [
    "\n",
    "At test time, we would be scaling the output down by the dropout rate. Here we scale by 0.5 (because we were previous dropping half the \n",
    "units):"
   ]
  },
  {
   "cell_type": "code",
   "execution_count": null,
   "metadata": {
    "collapsed": true
   },
   "outputs": [],
   "source": [
    "# At test time:\n",
    "layer_output *= 0.5"
   ]
  },
  {
   "cell_type": "markdown",
   "metadata": {},
   "source": [
    "\n",
    "Note that this process can be implemented by doing both operations at training time and leaving the output unchanged at test time, which is \n",
    "often the way it is implemented in practice:"
   ]
  },
  {
   "cell_type": "code",
   "execution_count": null,
   "metadata": {
    "collapsed": true
   },
   "outputs": [],
   "source": [
    "# At training time:\n",
    "layer_output *= np.randint(0, high=2, size=layer_output.shape)\n",
    "# Note that we are scaling *up* rather scaling *down* in this case\n",
    "layer_output /= 0.5"
   ]
  },
  {
   "cell_type": "markdown",
   "metadata": {},
   "source": [
    "\n",
    "This technique may seem strange and arbitrary. Why would this help reduce overfitting? Geoff Hinton has said that he was inspired, among \n",
    "other things, by a fraud prevention mechanism used by banks -- in his own words: _\"I went to my bank. The tellers kept changing and I asked \n",
    "one of them why. He said he didn’t know but they got moved around a lot. I figured it must be because it would require cooperation \n",
    "between employees to successfully defraud the bank. This made me realize that randomly removing a different subset of neurons on each \n",
    "example would prevent conspiracies and thus reduce overfitting\"_.\n",
    "\n",
    "The core idea is that introducing noise in the output values of a layer can break up happenstance patterns that are not significant (what \n",
    "Hinton refers to as \"conspiracies\"), which the network would start memorizing if no noise was present. \n",
    "\n",
    "In Keras you can introduce dropout in a network via the `Dropout` layer, which gets applied to the output of layer right before it, e.g.:"
   ]
  },
  {
   "cell_type": "code",
   "execution_count": 20,
   "metadata": {},
   "outputs": [],
   "source": [
    "model = original_model\n",
    "model.add(layers.Dropout(0.5))"
   ]
  },
  {
   "cell_type": "markdown",
   "metadata": {},
   "source": [
    "Let's add two `Dropout` layers in our IMDB network to see how well they do at reducing overfitting:"
   ]
  },
  {
   "cell_type": "code",
   "execution_count": 21,
   "metadata": {},
   "outputs": [],
   "source": [
    "dpt_model = models.Sequential()\n",
    "dpt_model.add(layers.Dense(16, activation='relu', input_shape=(10000,)))\n",
    "dpt_model.add(layers.Dropout(0.5))\n",
    "dpt_model.add(layers.Dense(16, activation='relu'))\n",
    "dpt_model.add(layers.Dropout(0.5))\n",
    "dpt_model.add(layers.Dense(1, activation='sigmoid'))\n",
    "\n",
    "dpt_model.compile(optimizer='rmsprop',\n",
    "                  loss='binary_crossentropy',\n",
    "                  metrics=['acc'])"
   ]
  },
  {
   "cell_type": "code",
   "execution_count": 22,
   "metadata": {},
   "outputs": [
    {
     "name": "stdout",
     "output_type": "stream",
     "text": [
      "Train on 25000 samples, validate on 25000 samples\n",
      "Epoch 1/20\n",
      "25000/25000 [==============================] - 1s 47us/step - loss: 0.6121 - acc: 0.6655 - val_loss: 0.4775 - val_acc: 0.8543\n",
      "Epoch 2/20\n",
      "25000/25000 [==============================] - 1s 43us/step - loss: 0.4597 - acc: 0.8032 - val_loss: 0.3477 - val_acc: 0.8787\n",
      "Epoch 3/20\n",
      "25000/25000 [==============================] - 1s 43us/step - loss: 0.3615 - acc: 0.8642 - val_loss: 0.2958 - val_acc: 0.8869\n",
      "Epoch 4/20\n",
      "25000/25000 [==============================] - 1s 43us/step - loss: 0.2973 - acc: 0.8939 - val_loss: 0.2779 - val_acc: 0.8876\n",
      "Epoch 5/20\n",
      "25000/25000 [==============================] - 1s 43us/step - loss: 0.2615 - acc: 0.9111 - val_loss: 0.2782 - val_acc: 0.8891\n",
      "Epoch 6/20\n",
      "25000/25000 [==============================] - 1s 43us/step - loss: 0.2253 - acc: 0.9240 - val_loss: 0.2929 - val_acc: 0.8882\n",
      "Epoch 7/20\n",
      "25000/25000 [==============================] - 1s 43us/step - loss: 0.2014 - acc: 0.9308 - val_loss: 0.3130 - val_acc: 0.8797\n",
      "Epoch 8/20\n",
      "25000/25000 [==============================] - 1s 43us/step - loss: 0.1870 - acc: 0.9357 - val_loss: 0.3206 - val_acc: 0.8837\n",
      "Epoch 9/20\n",
      "25000/25000 [==============================] - 1s 43us/step - loss: 0.1717 - acc: 0.9426 - val_loss: 0.3377 - val_acc: 0.8835\n",
      "Epoch 10/20\n",
      "25000/25000 [==============================] - 1s 43us/step - loss: 0.1558 - acc: 0.9476 - val_loss: 0.3681 - val_acc: 0.8754\n",
      "Epoch 11/20\n",
      "25000/25000 [==============================] - 1s 43us/step - loss: 0.1446 - acc: 0.9508 - val_loss: 0.3882 - val_acc: 0.8814\n",
      "Epoch 12/20\n",
      "25000/25000 [==============================] - 1s 43us/step - loss: 0.1417 - acc: 0.9530 - val_loss: 0.4157 - val_acc: 0.8788\n",
      "Epoch 13/20\n",
      "25000/25000 [==============================] - 1s 43us/step - loss: 0.1308 - acc: 0.9564 - val_loss: 0.4295 - val_acc: 0.8758\n",
      "Epoch 14/20\n",
      "25000/25000 [==============================] - 1s 43us/step - loss: 0.1243 - acc: 0.9582 - val_loss: 0.4662 - val_acc: 0.8742\n",
      "Epoch 15/20\n",
      "25000/25000 [==============================] - 1s 42us/step - loss: 0.1229 - acc: 0.9597 - val_loss: 0.4782 - val_acc: 0.8766\n",
      "Epoch 16/20\n",
      "25000/25000 [==============================] - 1s 43us/step - loss: 0.1219 - acc: 0.9594 - val_loss: 0.5099 - val_acc: 0.8752\n",
      "Epoch 17/20\n",
      "25000/25000 [==============================] - 1s 43us/step - loss: 0.1113 - acc: 0.9634 - val_loss: 0.5222 - val_acc: 0.8734\n",
      "Epoch 18/20\n",
      "25000/25000 [==============================] - 1s 44us/step - loss: 0.1090 - acc: 0.9637 - val_loss: 0.5319 - val_acc: 0.8728\n",
      "Epoch 19/20\n",
      "25000/25000 [==============================] - 1s 44us/step - loss: 0.1091 - acc: 0.9645 - val_loss: 0.5629 - val_acc: 0.8748\n",
      "Epoch 20/20\n",
      "25000/25000 [==============================] - 1s 43us/step - loss: 0.1029 - acc: 0.9664 - val_loss: 0.5945 - val_acc: 0.8664\n"
     ]
    }
   ],
   "source": [
    "dpt_model_hist = dpt_model.fit(x_train, y_train,\n",
    "                               epochs=20,\n",
    "                               batch_size=512,\n",
    "                               validation_data=(x_test, y_test))"
   ]
  },
  {
   "cell_type": "markdown",
   "metadata": {},
   "source": [
    "Let's plot the results:"
   ]
  },
  {
   "cell_type": "code",
   "execution_count": 23,
   "metadata": {},
   "outputs": [
    {
     "data": {
      "image/png": "[encoded data removed]",
      "text/plain": [
       "<Figure size 432x288 with 1 Axes>"
      ]
     },
     "metadata": {
      "needs_background": "light"
     },
     "output_type": "display_data"
    }
   ],
   "source": [
    "dpt_model_val_loss = dpt_model_hist.history['val_loss']\n",
    "\n",
    "plt.plot(epochs, original_val_loss, 'b+', label='Original model')\n",
    "plt.plot(epochs, dpt_model_val_loss, 'bo', label='Dropout-regularized model')\n",
    "plt.xlabel('Epochs')\n",
    "plt.ylabel('Validation loss')\n",
    "plt.legend()\n",
    "\n",
    "plt.show()"
   ]
  },
  {
   "cell_type": "markdown",
   "metadata": {},
   "source": [
    "\n",
    "Again, a clear improvement over the reference network.\n",
    "\n",
    "To recap: here the most common ways to prevent overfitting in neural networks:\n",
    "\n",
    "* Getting more training data.\n",
    "* Reducing the capacity of the network.\n",
    "* Adding weight regularization.\n",
    "* Adding dropout."
   ]
  },
  {
   "cell_type": "markdown",
   "metadata": {},
   "source": [
    "Thats cool and all but is dropout better or L2?"
   ]
  },
  {
   "cell_type": "code",
   "execution_count": 26,
   "metadata": {},
   "outputs": [
    {
     "name": "stdout",
     "output_type": "stream",
     "text": [
      "Train on 25000 samples, validate on 25000 samples\n",
      "Epoch 1/20\n",
      "25000/25000 [==============================] - 1s 48us/step - loss: 0.6334 - acc: 0.6825 - val_loss: 0.4874 - val_acc: 0.8557\n",
      "Epoch 2/20\n",
      "25000/25000 [==============================] - 1s 44us/step - loss: 0.4840 - acc: 0.8214 - val_loss: 0.3868 - val_acc: 0.8810\n",
      "Epoch 3/20\n",
      "25000/25000 [==============================] - 1s 43us/step - loss: 0.4053 - acc: 0.8674 - val_loss: 0.3430 - val_acc: 0.8865\n",
      "Epoch 4/20\n",
      "25000/25000 [==============================] - 1s 43us/step - loss: 0.3583 - acc: 0.8913 - val_loss: 0.3323 - val_acc: 0.8872\n",
      "Epoch 5/20\n",
      "25000/25000 [==============================] - 1s 43us/step - loss: 0.3238 - acc: 0.9040 - val_loss: 0.3321 - val_acc: 0.8832\n",
      "Epoch 6/20\n",
      "25000/25000 [==============================] - 1s 44us/step - loss: 0.3015 - acc: 0.9151 - val_loss: 0.3364 - val_acc: 0.8842\n",
      "Epoch 7/20\n",
      "25000/25000 [==============================] - 1s 43us/step - loss: 0.2893 - acc: 0.9199 - val_loss: 0.3540 - val_acc: 0.8837\n",
      "Epoch 8/20\n",
      "25000/25000 [==============================] - 1s 44us/step - loss: 0.2807 - acc: 0.9251 - val_loss: 0.3507 - val_acc: 0.8818\n",
      "Epoch 9/20\n",
      "25000/25000 [==============================] - 1s 43us/step - loss: 0.2704 - acc: 0.9276 - val_loss: 0.3672 - val_acc: 0.8824\n",
      "Epoch 10/20\n",
      "25000/25000 [==============================] - 1s 44us/step - loss: 0.2642 - acc: 0.9316 - val_loss: 0.3911 - val_acc: 0.8610\n",
      "Epoch 11/20\n",
      "25000/25000 [==============================] - 1s 43us/step - loss: 0.2586 - acc: 0.9313 - val_loss: 0.3742 - val_acc: 0.8800\n",
      "Epoch 12/20\n",
      "25000/25000 [==============================] - 1s 43us/step - loss: 0.2505 - acc: 0.9346 - val_loss: 0.3895 - val_acc: 0.8670\n",
      "Epoch 13/20\n",
      "25000/25000 [==============================] - 1s 44us/step - loss: 0.2469 - acc: 0.9359 - val_loss: 0.3933 - val_acc: 0.8787\n",
      "Epoch 14/20\n",
      "25000/25000 [==============================] - 1s 44us/step - loss: 0.2469 - acc: 0.9382 - val_loss: 0.4040 - val_acc: 0.8730\n",
      "Epoch 15/20\n",
      "25000/25000 [==============================] - 1s 43us/step - loss: 0.2455 - acc: 0.9376 - val_loss: 0.4114 - val_acc: 0.8792\n",
      "Epoch 16/20\n",
      "25000/25000 [==============================] - 1s 44us/step - loss: 0.2426 - acc: 0.9398 - val_loss: 0.4153 - val_acc: 0.8797\n",
      "Epoch 17/20\n",
      "25000/25000 [==============================] - 1s 44us/step - loss: 0.2342 - acc: 0.9407 - val_loss: 0.4241 - val_acc: 0.8786\n",
      "Epoch 18/20\n",
      "25000/25000 [==============================] - 1s 44us/step - loss: 0.2368 - acc: 0.9404 - val_loss: 0.4364 - val_acc: 0.8778\n",
      "Epoch 19/20\n",
      "25000/25000 [==============================] - 1s 45us/step - loss: 0.2354 - acc: 0.9410 - val_loss: 0.4194 - val_acc: 0.8748\n",
      "Epoch 20/20\n",
      "25000/25000 [==============================] - 1s 46us/step - loss: 0.2312 - acc: 0.9440 - val_loss: 0.4247 - val_acc: 0.8755\n"
     ]
    },
    {
     "data": {
      "image/png": "[encoded data removed]",
      "text/plain": [
       "<Figure size 432x288 with 1 Axes>"
      ]
     },
     "metadata": {
      "needs_background": "light"
     },
     "output_type": "display_data"
    }
   ],
   "source": [
    "#dropout and L^2 reg\n",
    "dpt_l_model = models.Sequential()\n",
    "\n",
    "\n",
    "dpt_l_model.add(layers.Dense(16, kernel_regularizer=regularizers.l2(0.001),\n",
    "                          activation='relu', input_shape=(10000,)))\n",
    "dpt_l_model.add(layers.Dropout(0.5))\n",
    "\n",
    "dpt_l_model.add(layers.Dense(16, kernel_regularizer=regularizers.l2(0.001),\n",
    "                          activation='relu'))\n",
    "dpt_l_model.add(layers.Dropout(0.5))\n",
    "dpt_l_model.add(layers.Dense(1, activation='sigmoid'))\n",
    "\n",
    "\n",
    "\n",
    "\n",
    "dpt_l_model.compile(optimizer='rmsprop',\n",
    "                  loss='binary_crossentropy',\n",
    "                  metrics=['acc'])\n",
    "\n",
    "dpt_l_model_hist = dpt_l_model.fit(x_train, y_train,\n",
    "                               epochs=20,\n",
    "                               batch_size=512,\n",
    "                               validation_data=(x_test, y_test))\n",
    "\n",
    "dpt_l_model_val_loss = dpt_l_model_hist.history['val_loss']\n",
    "\n",
    "plt.plot(epochs, original_val_loss, 'b+', label='Original model')\n",
    "plt.plot(epochs, dpt_l_model_val_loss, 'bo', label='Dropout-&-L-regularized model')\n",
    "plt.plot(epochs, l2_model_val_loss, 'ro', label='L2-regularized model')\n",
    "plt.plot(epochs, dpt_model_val_loss, 'r+', label='Dropout-regularized model')\n",
    "\n",
    "\n",
    "plt.xlabel('Epochs')\n",
    "plt.ylabel('Validation loss')\n",
    "plt.legend()\n",
    "\n",
    "plt.show()\n",
    "\n"
   ]
  },
  {
   "cell_type": "code",
   "execution_count": null,
   "metadata": {},
   "outputs": [],
   "source": []
  }
 ],
 "metadata": {
  "kernelspec": {
   "display_name": "Python 3",
   "language": "python",
   "name": "python3"
  },
  "language_info": {
   "codemirror_mode": {
    "name": "ipython",
    "version": 3
   },
   "file_extension": ".py",
   "mimetype": "text/x-python",
   "name": "python",
   "nbconvert_exporter": "python",
   "pygments_lexer": "ipython3",
   "version": "3.6.9"
  }
 },
 "nbformat": 4,
 "nbformat_minor": 2
}
