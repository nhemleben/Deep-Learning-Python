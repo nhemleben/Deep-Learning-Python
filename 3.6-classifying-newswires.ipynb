{
 "cells": [
  {
   "cell_type": "code",
   "execution_count": 1,
   "metadata": {},
   "outputs": [
    {
     "name": "stderr",
     "output_type": "stream",
     "text": [
      "Using TensorFlow backend.\n"
     ]
    },
    {
     "data": {
      "text/plain": [
       "'2.3.1'"
      ]
     },
     "execution_count": 1,
     "metadata": {},
     "output_type": "execute_result"
    }
   ],
   "source": [
    "import keras\n",
    "keras.__version__"
   ]
  },
  {
   "cell_type": "markdown",
   "metadata": {},
   "source": [
    "# Classifying newswires: a multi-class classification example\n",
    "\n",
    "This notebook contains the code samples found in Chapter 3, Section 5 of [Deep Learning with Python](https://www.manning.com/books/deep-learning-with-python?a_aid=keras&a_bid=76564dff). Note that the original text features far more content, in particular further explanations and figures: in this notebook, you will only find source code and related comments.\n",
    "\n",
    "----\n",
    "\n",
    "In the previous section we saw how to classify vector inputs into two mutually exclusive classes using a densely-connected neural network. \n",
    "But what happens when you have more than two classes? \n",
    "\n",
    "In this section, we will build a network to classify Reuters newswires into 46 different mutually-exclusive topics. Since we have many \n",
    "classes, this problem is an instance of \"multi-class classification\", and since each data point should be classified into only one \n",
    "category, the problem is more specifically an instance of \"single-label, multi-class classification\". If each data point could have \n",
    "belonged to multiple categories (in our case, topics) then we would be facing a \"multi-label, multi-class classification\" problem."
   ]
  },
  {
   "cell_type": "markdown",
   "metadata": {},
   "source": [
    "## The Reuters dataset\n",
    "\n",
    "\n",
    "We will be working with the _Reuters dataset_, a set of short newswires and their topics, published by Reuters in 1986. It's a very simple, \n",
    "widely used toy dataset for text classification. There are 46 different topics; some topics are more represented than others, but each \n",
    "topic has at least 10 examples in the training set.\n",
    "\n",
    "Like IMDB and MNIST, the Reuters dataset comes packaged as part of Keras. Let's take a look right away:"
   ]
  },
  {
   "cell_type": "code",
   "execution_count": 2,
   "metadata": {},
   "outputs": [],
   "source": [
    "from keras.datasets import reuters\n",
    "\n",
    "(train_data, train_labels), (test_data, test_labels) = reuters.load_data(num_words=10000)"
   ]
  },
  {
   "cell_type": "markdown",
   "metadata": {},
   "source": [
    "\n",
    "Like with the IMDB dataset, the argument `num_words=10000` restricts the data to the 10,000 most frequently occurring words found in the \n",
    "data.\n",
    "\n",
    "We have 8,982 training examples and 2,246 test examples:"
   ]
  },
  {
   "cell_type": "code",
   "execution_count": 3,
   "metadata": {},
   "outputs": [
    {
     "data": {
      "text/plain": [
       "8982"
      ]
     },
     "execution_count": 3,
     "metadata": {},
     "output_type": "execute_result"
    }
   ],
   "source": [
    "len(train_data)"
   ]
  },
  {
   "cell_type": "code",
   "execution_count": 4,
   "metadata": {},
   "outputs": [
    {
     "data": {
      "text/plain": [
       "2246"
      ]
     },
     "execution_count": 4,
     "metadata": {},
     "output_type": "execute_result"
    }
   ],
   "source": [
    "len(test_data)"
   ]
  },
  {
   "cell_type": "markdown",
   "metadata": {},
   "source": [
    "As with the IMDB reviews, each example is a list of integers (word indices):"
   ]
  },
  {
   "cell_type": "code",
   "execution_count": 5,
   "metadata": {
    "scrolled": true
   },
   "outputs": [
    {
     "data": {
      "text/plain": [
       "[1,\n",
       " 245,\n",
       " 273,\n",
       " 207,\n",
       " 156,\n",
       " 53,\n",
       " 74,\n",
       " 160,\n",
       " 26,\n",
       " 14,\n",
       " 46,\n",
       " 296,\n",
       " 26,\n",
       " 39,\n",
       " 74,\n",
       " 2979,\n",
       " 3554,\n",
       " 14,\n",
       " 46,\n",
       " 4689,\n",
       " 4329,\n",
       " 86,\n",
       " 61,\n",
       " 3499,\n",
       " 4795,\n",
       " 14,\n",
       " 61,\n",
       " 451,\n",
       " 4329,\n",
       " 17,\n",
       " 12]"
      ]
     },
     "execution_count": 5,
     "metadata": {},
     "output_type": "execute_result"
    }
   ],
   "source": [
    "train_data[10]"
   ]
  },
  {
   "cell_type": "markdown",
   "metadata": {},
   "source": [
    "Here's how you can decode it back to words, in case you are curious:"
   ]
  },
  {
   "cell_type": "code",
   "execution_count": 6,
   "metadata": {},
   "outputs": [],
   "source": [
    "word_index = reuters.get_word_index()\n",
    "reverse_word_index = dict([(value, key) for (key, value) in word_index.items()])\n",
    "# Note that our indices were offset by 3\n",
    "# because 0, 1 and 2 are reserved indices for \"padding\", \"start of sequence\", and \"unknown\".\n",
    "decoded_newswire = ' '.join([reverse_word_index.get(i - 3, '?') for i in train_data[0]])"
   ]
  },
  {
   "cell_type": "code",
   "execution_count": 7,
   "metadata": {},
   "outputs": [
    {
     "data": {
      "text/plain": [
       "'? ? ? said as a result of its december acquisition of space co it expects earnings per share in 1987 of 1 15 to 1 30 dlrs per share up from 70 cts in 1986 the company said pretax net should rise to nine to 10 mln dlrs from six mln dlrs in 1986 and rental operation revenues to 19 to 22 mln dlrs from 12 5 mln dlrs it said cash flow per share this year should be 2 50 to three dlrs reuter 3'"
      ]
     },
     "execution_count": 7,
     "metadata": {},
     "output_type": "execute_result"
    }
   ],
   "source": [
    "decoded_newswire"
   ]
  },
  {
   "cell_type": "markdown",
   "metadata": {},
   "source": [
    "The label associated with an example is an integer between 0 and 45: a topic index."
   ]
  },
  {
   "cell_type": "code",
   "execution_count": 8,
   "metadata": {},
   "outputs": [
    {
     "data": {
      "text/plain": [
       "3"
      ]
     },
     "execution_count": 8,
     "metadata": {},
     "output_type": "execute_result"
    }
   ],
   "source": [
    "train_labels[10]"
   ]
  },
  {
   "cell_type": "markdown",
   "metadata": {},
   "source": [
    "## Preparing the data\n",
    "\n",
    "We can vectorize the data with the exact same code as in our previous example:"
   ]
  },
  {
   "cell_type": "code",
   "execution_count": 9,
   "metadata": {},
   "outputs": [],
   "source": [
    "import numpy as np\n",
    "\n",
    "def vectorize_sequences(sequences, dimension=10000):\n",
    "    results = np.zeros((len(sequences), dimension))\n",
    "    for i, sequence in enumerate(sequences):\n",
    "        results[i, sequence] = 1.\n",
    "    return results\n",
    "\n",
    "# Our vectorized training data\n",
    "x_train = vectorize_sequences(train_data)\n",
    "# Our vectorized test data\n",
    "x_test = vectorize_sequences(test_data)"
   ]
  },
  {
   "cell_type": "markdown",
   "metadata": {},
   "source": [
    "\n",
    "To vectorize the labels, there are two possibilities: we could just cast the label list as an integer tensor, or we could use a \"one-hot\" \n",
    "encoding. One-hot encoding is a widely used format for categorical data, also called \"categorical encoding\". \n",
    "For a more detailed explanation of one-hot encoding, you can refer to Chapter 6, Section 1. \n",
    "In our case, one-hot encoding of our labels consists in embedding each label as an all-zero vector with a 1 in the place of the label index, e.g.:"
   ]
  },
  {
   "cell_type": "code",
   "execution_count": 10,
   "metadata": {},
   "outputs": [],
   "source": [
    "def to_one_hot(labels, dimension=46):\n",
    "    results = np.zeros((len(labels), dimension))\n",
    "    for i, label in enumerate(labels):\n",
    "        results[i, label] = 1.\n",
    "    return results\n",
    "\n",
    "# Our vectorized training labels\n",
    "one_hot_train_labels = to_one_hot(train_labels)\n",
    "# Our vectorized test labels\n",
    "one_hot_test_labels = to_one_hot(test_labels)"
   ]
  },
  {
   "cell_type": "markdown",
   "metadata": {},
   "source": [
    "Note that there is a built-in way to do this in Keras, which you have already seen in action in our MNIST example:"
   ]
  },
  {
   "cell_type": "code",
   "execution_count": 11,
   "metadata": {},
   "outputs": [],
   "source": [
    "from keras.utils.np_utils import to_categorical\n",
    "\n",
    "one_hot_train_labels = to_categorical(train_labels)\n",
    "one_hot_test_labels = to_categorical(test_labels)"
   ]
  },
  {
   "cell_type": "markdown",
   "metadata": {},
   "source": [
    "## Building our network\n",
    "\n",
    "\n",
    "This topic classification problem looks very similar to our previous movie review classification problem: in both cases, we are trying to \n",
    "classify short snippets of text. There is however a new constraint here: the number of output classes has gone from 2 to 46, i.e. the \n",
    "dimensionality of the output space is much larger. \n",
    "\n",
    "In a stack of `Dense` layers like what we were using, each layer can only access information present in the output of the previous layer. \n",
    "If one layer drops some information relevant to the classification problem, this information can never be recovered by later layers: each \n",
    "layer can potentially become an \"information bottleneck\". In our previous example, we were using 16-dimensional intermediate layers, but a \n",
    "16-dimensional space may be too limited to learn to separate 46 different classes: such small layers may act as information bottlenecks, \n",
    "permanently dropping relevant information.\n",
    "\n",
    "For this reason we will use larger layers. Let's go with 64 units:"
   ]
  },
  {
   "cell_type": "code",
   "execution_count": 12,
   "metadata": {},
   "outputs": [],
   "source": [
    "from keras import models\n",
    "from keras import layers\n",
    "\n",
    "model = models.Sequential()\n",
    "model.add(layers.Dense(64, activation='relu', input_shape=(10000,)))\n",
    "model.add(layers.Dense(64, activation='relu'))\n",
    "model.add(layers.Dense(46, activation='softmax'))"
   ]
  },
  {
   "cell_type": "markdown",
   "metadata": {},
   "source": [
    "\n",
    "There are two other things you should note about this architecture:\n",
    "\n",
    "* We are ending the network with a `Dense` layer of size 46. This means that for each input sample, our network will output a \n",
    "46-dimensional vector. Each entry in this vector (each dimension) will encode a different output class.\n",
    "* The last layer uses a `softmax` activation. You have already seen this pattern in the MNIST example. It means that the network will \n",
    "output a _probability distribution_ over the 46 different output classes, i.e. for every input sample, the network will produce a \n",
    "46-dimensional output vector where `output[i]` is the probability that the sample belongs to class `i`. The 46 scores will sum to 1.\n",
    "\n",
    "The best loss function to use in this case is `categorical_crossentropy`. It measures the distance between two probability distributions: \n",
    "in our case, between the probability distribution output by our network, and the true distribution of the labels. By minimizing the \n",
    "distance between these two distributions, we train our network to output something as close as possible to the true labels."
   ]
  },
  {
   "cell_type": "code",
   "execution_count": 13,
   "metadata": {},
   "outputs": [],
   "source": [
    "model.compile(optimizer='rmsprop',\n",
    "              loss='categorical_crossentropy',\n",
    "              metrics=['accuracy'])"
   ]
  },
  {
   "cell_type": "markdown",
   "metadata": {},
   "source": [
    "## Validating our approach\n",
    "\n",
    "Let's set apart 1,000 samples in our training data to use as a validation set:"
   ]
  },
  {
   "cell_type": "code",
   "execution_count": 14,
   "metadata": {},
   "outputs": [],
   "source": [
    "x_val = x_train[:1000]\n",
    "partial_x_train = x_train[1000:]\n",
    "\n",
    "y_val = one_hot_train_labels[:1000]\n",
    "partial_y_train = one_hot_train_labels[1000:]"
   ]
  },
  {
   "cell_type": "markdown",
   "metadata": {},
   "source": [
    "Now let's train our network for 20 epochs:"
   ]
  },
  {
   "cell_type": "code",
   "execution_count": 15,
   "metadata": {},
   "outputs": [
    {
     "name": "stdout",
     "output_type": "stream",
     "text": [
      "Train on 7982 samples, validate on 1000 samples\n",
      "Epoch 1/20\n",
      "7982/7982 [==============================] - 0s 56us/step - loss: 2.6261 - accuracy: 0.4805 - val_loss: 1.7744 - val_accuracy: 0.6460\n",
      "Epoch 2/20\n",
      "7982/7982 [==============================] - 0s 35us/step - loss: 1.4565 - accuracy: 0.7043 - val_loss: 1.3172 - val_accuracy: 0.7120\n",
      "Epoch 3/20\n",
      "7982/7982 [==============================] - 0s 38us/step - loss: 1.0731 - accuracy: 0.7742 - val_loss: 1.1536 - val_accuracy: 0.7540\n",
      "Epoch 4/20\n",
      "7982/7982 [==============================] - 0s 37us/step - loss: 0.8356 - accuracy: 0.8224 - val_loss: 1.0108 - val_accuracy: 0.7940\n",
      "Epoch 5/20\n",
      "7982/7982 [==============================] - 0s 38us/step - loss: 0.6631 - accuracy: 0.8559 - val_loss: 0.9493 - val_accuracy: 0.8020\n",
      "Epoch 6/20\n",
      "7982/7982 [==============================] - 0s 37us/step - loss: 0.5323 - accuracy: 0.8867 - val_loss: 0.9104 - val_accuracy: 0.8120\n",
      "Epoch 7/20\n",
      "7982/7982 [==============================] - 0s 37us/step - loss: 0.4273 - accuracy: 0.9121 - val_loss: 0.8888 - val_accuracy: 0.8130\n",
      "Epoch 8/20\n",
      "7982/7982 [==============================] - 0s 38us/step - loss: 0.3490 - accuracy: 0.9266 - val_loss: 0.9679 - val_accuracy: 0.7860\n",
      "Epoch 9/20\n",
      "7982/7982 [==============================] - 0s 38us/step - loss: 0.2901 - accuracy: 0.9367 - val_loss: 0.8803 - val_accuracy: 0.8170\n",
      "Epoch 10/20\n",
      "7982/7982 [==============================] - 0s 38us/step - loss: 0.2430 - accuracy: 0.9419 - val_loss: 0.9249 - val_accuracy: 0.8180\n",
      "Epoch 11/20\n",
      "7982/7982 [==============================] - 0s 38us/step - loss: 0.2145 - accuracy: 0.9493 - val_loss: 0.9034 - val_accuracy: 0.8160\n",
      "Epoch 12/20\n",
      "7982/7982 [==============================] - 0s 39us/step - loss: 0.1860 - accuracy: 0.9500 - val_loss: 0.9670 - val_accuracy: 0.8070\n",
      "Epoch 13/20\n",
      "7982/7982 [==============================] - 0s 39us/step - loss: 0.1663 - accuracy: 0.9533 - val_loss: 0.9281 - val_accuracy: 0.8120\n",
      "Epoch 14/20\n",
      "7982/7982 [==============================] - 0s 40us/step - loss: 0.1516 - accuracy: 0.9533 - val_loss: 0.9901 - val_accuracy: 0.8030\n",
      "Epoch 15/20\n",
      "7982/7982 [==============================] - 0s 38us/step - loss: 0.1439 - accuracy: 0.9543 - val_loss: 1.0210 - val_accuracy: 0.8020\n",
      "Epoch 16/20\n",
      "7982/7982 [==============================] - 0s 38us/step - loss: 0.1302 - accuracy: 0.9559 - val_loss: 1.0069 - val_accuracy: 0.8030\n",
      "Epoch 17/20\n",
      "7982/7982 [==============================] - 0s 39us/step - loss: 0.1266 - accuracy: 0.9562 - val_loss: 1.0269 - val_accuracy: 0.7920\n",
      "Epoch 18/20\n",
      "7982/7982 [==============================] - 0s 37us/step - loss: 0.1185 - accuracy: 0.9562 - val_loss: 1.0509 - val_accuracy: 0.8070\n",
      "Epoch 19/20\n",
      "7982/7982 [==============================] - 0s 37us/step - loss: 0.1167 - accuracy: 0.9570 - val_loss: 1.0868 - val_accuracy: 0.7980\n",
      "Epoch 20/20\n",
      "7982/7982 [==============================] - 0s 38us/step - loss: 0.1102 - accuracy: 0.9577 - val_loss: 1.0481 - val_accuracy: 0.8080\n"
     ]
    }
   ],
   "source": [
    "history = model.fit(partial_x_train,\n",
    "                    partial_y_train,\n",
    "                    epochs=20,\n",
    "                    batch_size=512,\n",
    "                    validation_data=(x_val, y_val))"
   ]
  },
  {
   "cell_type": "markdown",
   "metadata": {},
   "source": [
    "Let's display its loss and accuracy curves:"
   ]
  },
  {
   "cell_type": "code",
   "execution_count": 16,
   "metadata": {},
   "outputs": [
    {
     "data": {
      "image/png": "[encoded data removed]",
      "text/plain": [
       "<Figure size 432x288 with 1 Axes>"
      ]
     },
     "metadata": {
      "needs_background": "light"
     },
     "output_type": "display_data"
    }
   ],
   "source": [
    "import matplotlib.pyplot as plt\n",
    "\n",
    "loss = history.history['loss']\n",
    "val_loss = history.history['val_loss']\n",
    "\n",
    "epochs = range(1, len(loss) + 1)\n",
    "\n",
    "plt.plot(epochs, loss, 'bo', label='Training loss')\n",
    "plt.plot(epochs, val_loss, 'b', label='Validation loss')\n",
    "plt.title('Training and validation loss')\n",
    "plt.xlabel('Epochs')\n",
    "plt.ylabel('Loss')\n",
    "plt.legend()\n",
    "\n",
    "plt.show()"
   ]
  },
  {
   "cell_type": "code",
   "execution_count": 17,
   "metadata": {},
   "outputs": [
    {
     "data": {
      "text/plain": [
       "dict_keys(['val_loss', 'val_accuracy', 'loss', 'accuracy'])"
      ]
     },
     "execution_count": 17,
     "metadata": {},
     "output_type": "execute_result"
    }
   ],
   "source": [
    "history_dict = history.history\n",
    "history_dict.keys()"
   ]
  },
  {
   "cell_type": "code",
   "execution_count": 18,
   "metadata": {},
   "outputs": [
    {
     "data": {
      "image/png": "[encoded data removed]",
      "text/plain": [
       "<Figure size 432x288 with 1 Axes>"
      ]
     },
     "metadata": {
      "needs_background": "light"
     },
     "output_type": "display_data"
    }
   ],
   "source": [
    "plt.clf()   # clear figure\n",
    "\n",
    "acc = history.history['accuracy']\n",
    "val_acc = history.history['val_accuracy']\n",
    "\n",
    "plt.plot(epochs, acc, 'bo', label='Training acc')\n",
    "plt.plot(epochs, val_acc, 'b', label='Validation acc')\n",
    "plt.title('Training and validation accuracy')\n",
    "plt.xlabel('Epochs')\n",
    "plt.ylabel('Loss')\n",
    "plt.legend()\n",
    "\n",
    "plt.show()"
   ]
  },
  {
   "cell_type": "markdown",
   "metadata": {},
   "source": [
    "It seems that the network starts overfitting after 8 epochs. Let's train a new network from scratch for 8 epochs, then let's evaluate it on \n",
    "the test set:"
   ]
  },
  {
   "cell_type": "code",
   "execution_count": 20,
   "metadata": {},
   "outputs": [
    {
     "name": "stdout",
     "output_type": "stream",
     "text": [
      "Train on 7982 samples, validate on 1000 samples\n",
      "Epoch 1/8\n",
      "7982/7982 [==============================] - 0s 39us/step - loss: 2.5376 - accuracy: 0.5345 - val_loss: 1.6958 - val_accuracy: 0.6490\n",
      "Epoch 2/8\n",
      "7982/7982 [==============================] - 0s 35us/step - loss: 1.3855 - accuracy: 0.7026 - val_loss: 1.2851 - val_accuracy: 0.7040\n",
      "Epoch 3/8\n",
      "7982/7982 [==============================] - 0s 34us/step - loss: 1.0300 - accuracy: 0.7727 - val_loss: 1.1098 - val_accuracy: 0.7510\n",
      "Epoch 4/8\n",
      "7982/7982 [==============================] - 0s 36us/step - loss: 0.8056 - accuracy: 0.8281 - val_loss: 0.9995 - val_accuracy: 0.7940\n",
      "Epoch 5/8\n",
      "7982/7982 [==============================] - 0s 34us/step - loss: 0.6367 - accuracy: 0.8663 - val_loss: 0.9485 - val_accuracy: 0.8010\n",
      "Epoch 6/8\n",
      "7982/7982 [==============================] - 0s 32us/step - loss: 0.5015 - accuracy: 0.8965 - val_loss: 0.8919 - val_accuracy: 0.8130\n",
      "Epoch 7/8\n",
      "7982/7982 [==============================] - 0s 32us/step - loss: 0.4042 - accuracy: 0.9176 - val_loss: 0.8939 - val_accuracy: 0.8050\n",
      "Epoch 8/8\n",
      "7982/7982 [==============================] - 0s 35us/step - loss: 0.3260 - accuracy: 0.9316 - val_loss: 0.9413 - val_accuracy: 0.7850\n",
      "2246/2246 [==============================] - 0s 35us/step\n"
     ]
    }
   ],
   "source": [
    "model = models.Sequential()\n",
    "model.add(layers.Dense(64, activation='relu', input_shape=(10000,)))\n",
    "model.add(layers.Dense(64, activation='relu'))\n",
    "model.add(layers.Dense(46, activation='softmax'))\n",
    "\n",
    "model.compile(optimizer='rmsprop',\n",
    "              loss='categorical_crossentropy',\n",
    "              metrics=['accuracy'])\n",
    "model.fit(partial_x_train,\n",
    "          partial_y_train,\n",
    "          epochs=8,\n",
    "          batch_size=512,\n",
    "          validation_data=(x_val, y_val))\n",
    "results = model.evaluate(x_test, one_hot_test_labels)"
   ]
  },
  {
   "cell_type": "code",
   "execution_count": 21,
   "metadata": {},
   "outputs": [
    {
     "data": {
      "text/plain": [
       "[1.0546196216148451, 0.7666963338851929]"
      ]
     },
     "execution_count": 21,
     "metadata": {},
     "output_type": "execute_result"
    }
   ],
   "source": [
    "results"
   ]
  },
  {
   "cell_type": "markdown",
   "metadata": {},
   "source": [
    "\n",
    "Our approach reaches an accuracy of ~78%. With a balanced binary classification problem, the accuracy reached by a purely random classifier \n",
    "would be 50%, but in our case it is closer to 19%, so our results seem pretty good, at least when compared to a random baseline:"
   ]
  },
  {
   "cell_type": "code",
   "execution_count": 22,
   "metadata": {},
   "outputs": [
    {
     "data": {
      "text/plain": [
       "0.18388245770258238"
      ]
     },
     "execution_count": 22,
     "metadata": {},
     "output_type": "execute_result"
    }
   ],
   "source": [
    "import copy\n",
    "\n",
    "test_labels_copy = copy.copy(test_labels)\n",
    "np.random.shuffle(test_labels_copy)\n",
    "float(np.sum(np.array(test_labels) == np.array(test_labels_copy))) / len(test_labels)"
   ]
  },
  {
   "cell_type": "markdown",
   "metadata": {},
   "source": [
    "## Generating predictions on new data\n",
    "\n",
    "We can verify that the `predict` method of our model instance returns a probability distribution over all 46 topics. Let's generate topic \n",
    "predictions for all of the test data:"
   ]
  },
  {
   "cell_type": "code",
   "execution_count": 23,
   "metadata": {},
   "outputs": [],
   "source": [
    "predictions = model.predict(x_test)"
   ]
  },
  {
   "cell_type": "markdown",
   "metadata": {},
   "source": [
    "Each entry in `predictions` is a vector of length 46:"
   ]
  },
  {
   "cell_type": "code",
   "execution_count": 24,
   "metadata": {},
   "outputs": [
    {
     "data": {
      "text/plain": [
       "(46,)"
      ]
     },
     "execution_count": 24,
     "metadata": {},
     "output_type": "execute_result"
    }
   ],
   "source": [
    "predictions[0].shape"
   ]
  },
  {
   "cell_type": "markdown",
   "metadata": {},
   "source": [
    "The coefficients in this vector sum to 1:"
   ]
  },
  {
   "cell_type": "code",
   "execution_count": 25,
   "metadata": {},
   "outputs": [
    {
     "data": {
      "text/plain": [
       "1.0"
      ]
     },
     "execution_count": 25,
     "metadata": {},
     "output_type": "execute_result"
    }
   ],
   "source": [
    "np.sum(predictions[0])"
   ]
  },
  {
   "cell_type": "markdown",
   "metadata": {},
   "source": [
    "The largest entry is the predicted class, i.e. the class with the highest probability:"
   ]
  },
  {
   "cell_type": "code",
   "execution_count": 26,
   "metadata": {},
   "outputs": [
    {
     "data": {
      "text/plain": [
       "4"
      ]
     },
     "execution_count": 26,
     "metadata": {},
     "output_type": "execute_result"
    }
   ],
   "source": [
    "np.argmax(predictions[0])"
   ]
  },
  {
   "cell_type": "markdown",
   "metadata": {},
   "source": [
    "## A different way to handle the labels and the loss\n",
    "\n",
    "We mentioned earlier that another way to encode the labels would be to cast them as an integer tensor, like such:"
   ]
  },
  {
   "cell_type": "code",
   "execution_count": 27,
   "metadata": {},
   "outputs": [],
   "source": [
    "y_train = np.array(train_labels)\n",
    "y_test = np.array(test_labels)"
   ]
  },
  {
   "cell_type": "markdown",
   "metadata": {},
   "source": [
    "\n",
    "The only thing it would change is the choice of the loss function. Our previous loss, `categorical_crossentropy`, expects the labels to \n",
    "follow a categorical encoding. With integer labels, we should use `sparse_categorical_crossentropy`:"
   ]
  },
  {
   "cell_type": "code",
   "execution_count": 28,
   "metadata": {},
   "outputs": [],
   "source": [
    "model.compile(optimizer='rmsprop', loss='sparse_categorical_crossentropy', metrics=['acc'])"
   ]
  },
  {
   "cell_type": "markdown",
   "metadata": {},
   "source": [
    "This new loss function is still mathematically the same as `categorical_crossentropy`; it just has a different interface."
   ]
  },
  {
   "cell_type": "markdown",
   "metadata": {},
   "source": [
    "## On the importance of having sufficiently large intermediate layers\n",
    "\n",
    "\n",
    "We mentioned earlier that since our final outputs were 46-dimensional, we should avoid intermediate layers with much less than 46 hidden \n",
    "units. Now let's try to see what happens when we introduce an information bottleneck by having intermediate layers significantly less than \n",
    "46-dimensional, e.g. 4-dimensional."
   ]
  },
  {
   "cell_type": "code",
   "execution_count": 23,
   "metadata": {},
   "outputs": [
    {
     "name": "stdout",
     "output_type": "stream",
     "text": [
      "Train on 7982 samples, validate on 1000 samples\n",
      "Epoch 1/20\n",
      "7982/7982 [==============================] - 0s 53us/step - loss: 3.0957 - accuracy: 0.2169 - val_loss: 2.6088 - val_accuracy: 0.2290\n",
      "Epoch 2/20\n",
      "7982/7982 [==============================] - 0s 44us/step - loss: 2.1902 - accuracy: 0.5024 - val_loss: 1.8456 - val_accuracy: 0.5420\n",
      "Epoch 3/20\n",
      "7982/7982 [==============================] - 0s 44us/step - loss: 1.6124 - accuracy: 0.5921 - val_loss: 1.6002 - val_accuracy: 0.6020\n",
      "Epoch 4/20\n",
      "7982/7982 [==============================] - 0s 44us/step - loss: 1.4084 - accuracy: 0.6234 - val_loss: 1.5368 - val_accuracy: 0.6100\n",
      "Epoch 5/20\n",
      "7982/7982 [==============================] - 0s 44us/step - loss: 1.2800 - accuracy: 0.6317 - val_loss: 1.4560 - val_accuracy: 0.6250\n",
      "Epoch 6/20\n",
      "7982/7982 [==============================] - 0s 47us/step - loss: 1.1744 - accuracy: 0.6740 - val_loss: 1.4366 - val_accuracy: 0.6480\n",
      "Epoch 7/20\n",
      "7982/7982 [==============================] - 0s 44us/step - loss: 1.0877 - accuracy: 0.6899 - val_loss: 1.4372 - val_accuracy: 0.6530\n",
      "Epoch 8/20\n",
      "7982/7982 [==============================] - 0s 47us/step - loss: 1.0271 - accuracy: 0.7119 - val_loss: 1.4206 - val_accuracy: 0.6610\n",
      "Epoch 9/20\n",
      "7982/7982 [==============================] - 0s 44us/step - loss: 0.9749 - accuracy: 0.7304 - val_loss: 1.4473 - val_accuracy: 0.6630\n",
      "Epoch 10/20\n",
      "7982/7982 [==============================] - 0s 47us/step - loss: 0.9332 - accuracy: 0.7400 - val_loss: 1.4465 - val_accuracy: 0.6680\n",
      "Epoch 11/20\n",
      "7982/7982 [==============================] - 0s 44us/step - loss: 0.8963 - accuracy: 0.7442 - val_loss: 1.4846 - val_accuracy: 0.6650\n",
      "Epoch 12/20\n",
      "7982/7982 [==============================] - 0s 45us/step - loss: 0.8610 - accuracy: 0.7512 - val_loss: 1.5120 - val_accuracy: 0.6710\n",
      "Epoch 13/20\n",
      "7982/7982 [==============================] - 0s 44us/step - loss: 0.8344 - accuracy: 0.7541 - val_loss: 1.5383 - val_accuracy: 0.6760\n",
      "Epoch 14/20\n",
      "7982/7982 [==============================] - 0s 44us/step - loss: 0.8066 - accuracy: 0.7621 - val_loss: 1.5833 - val_accuracy: 0.6740\n",
      "Epoch 15/20\n",
      "7982/7982 [==============================] - 0s 44us/step - loss: 0.7813 - accuracy: 0.7665 - val_loss: 1.6731 - val_accuracy: 0.6730\n",
      "Epoch 16/20\n",
      "7982/7982 [==============================] - 0s 44us/step - loss: 0.7623 - accuracy: 0.7717 - val_loss: 1.6405 - val_accuracy: 0.6730\n",
      "Epoch 17/20\n",
      "7982/7982 [==============================] - 0s 47us/step - loss: 0.7415 - accuracy: 0.7816 - val_loss: 1.7064 - val_accuracy: 0.6750\n",
      "Epoch 18/20\n",
      "7982/7982 [==============================] - 0s 46us/step - loss: 0.7210 - accuracy: 0.7846 - val_loss: 1.7552 - val_accuracy: 0.6830\n",
      "Epoch 19/20\n",
      "7982/7982 [==============================] - 0s 47us/step - loss: 0.7031 - accuracy: 0.7899 - val_loss: 1.7640 - val_accuracy: 0.6820\n",
      "Epoch 20/20\n",
      "7982/7982 [==============================] - 0s 48us/step - loss: 0.6849 - accuracy: 0.7912 - val_loss: 1.8325 - val_accuracy: 0.6850\n"
     ]
    }
   ],
   "source": [
    "model = models.Sequential()\n",
    "model.add(layers.Dense(64, activation='relu', input_shape=(10000,)))\n",
    "model.add(layers.Dense(4, activation='relu'))\n",
    "model.add(layers.Dense(46, activation='softmax'))\n",
    "\n",
    "model.compile(optimizer='rmsprop',\n",
    "              loss='categorical_crossentropy',\n",
    "              metrics=['accuracy'])\n",
    "history = model.fit(partial_x_train,\n",
    "          partial_y_train,\n",
    "          epochs=20,\n",
    "          batch_size=128,\n",
    "          validation_data=(x_val, y_val))"
   ]
  },
  {
   "cell_type": "code",
   "execution_count": 24,
   "metadata": {},
   "outputs": [
    {
     "data": {
      "image/png": "[encoded data removed]",
      "text/plain": [
       "<Figure size 432x288 with 1 Axes>"
      ]
     },
     "metadata": {
      "needs_background": "light"
     },
     "output_type": "display_data"
    }
   ],
   "source": [
    "\n",
    "loss = history.history['loss']\n",
    "val_loss = history.history['val_loss']\n",
    "\n",
    "epochs = range(1, len(loss) + 1)\n",
    "\n",
    "plt.plot(epochs, loss, 'bo', label='Training loss')\n",
    "plt.plot(epochs, val_loss, 'b', label='Validation loss')\n",
    "plt.title('Training and validation loss')\n",
    "plt.xlabel('Epochs')\n",
    "plt.ylabel('Loss')\n",
    "plt.legend()\n",
    "\n",
    "plt.show()"
   ]
  },
  {
   "cell_type": "code",
   "execution_count": 25,
   "metadata": {},
   "outputs": [
    {
     "data": {
      "image/png": "[encoded data removed]",
      "text/plain": [
       "<Figure size 432x288 with 1 Axes>"
      ]
     },
     "metadata": {
      "needs_background": "light"
     },
     "output_type": "display_data"
    }
   ],
   "source": [
    "plt.clf()   # clear figure\n",
    "\n",
    "acc = history.history['accuracy']\n",
    "val_acc = history.history['val_accuracy']\n",
    "\n",
    "plt.plot(epochs, acc, 'bo', label='Training acc')\n",
    "plt.plot(epochs, val_acc, 'b', label='Validation acc')\n",
    "plt.title('Training and validation accuracy')\n",
    "plt.xlabel('Epochs')\n",
    "plt.ylabel('Loss')\n",
    "plt.legend()\n",
    "\n",
    "plt.show()"
   ]
  },
  {
   "cell_type": "markdown",
   "metadata": {},
   "source": [
    "\n",
    "Our network now seems to peak at ~71% test accuracy, a 8% absolute drop. This drop is mostly due to the fact that we are now trying to \n",
    "compress a lot of information (enough information to recover the separation hyperplanes of 46 classes) into an intermediate space that is \n",
    "too low-dimensional. The network is able to cram _most_ of the necessary information into these 8-dimensional representations, but not all \n",
    "of it."
   ]
  },
  {
   "cell_type": "markdown",
   "metadata": {},
   "source": [
    "## Further experiments\n",
    "\n",
    "* Try using larger or smaller layers: 32 units, 128 units...\n",
    "* We were using two hidden layers. Now try to use a single hidden layer, or three hidden layers."
   ]
  },
  {
   "cell_type": "code",
   "execution_count": 26,
   "metadata": {},
   "outputs": [
    {
     "name": "stdout",
     "output_type": "stream",
     "text": [
      "Train on 7982 samples, validate on 1000 samples\n",
      "Epoch 1/20\n",
      "7982/7982 [==============================] - 0s 52us/step - loss: 3.7813 - accuracy: 0.2274 - val_loss: 3.7325 - val_accuracy: 0.3850\n",
      "Epoch 2/20\n",
      "7982/7982 [==============================] - 0s 44us/step - loss: 3.6619 - accuracy: 0.3629 - val_loss: 3.6017 - val_accuracy: 0.3860\n",
      "Epoch 3/20\n",
      "7982/7982 [==============================] - 0s 43us/step - loss: 3.5012 - accuracy: 0.3811 - val_loss: 3.4920 - val_accuracy: 0.3890\n",
      "Epoch 4/20\n",
      "7982/7982 [==============================] - 0s 46us/step - loss: 3.3540 - accuracy: 0.3905 - val_loss: 3.4057 - val_accuracy: 0.3890\n",
      "Epoch 5/20\n",
      "7982/7982 [==============================] - 0s 46us/step - loss: 3.2341 - accuracy: 0.3924 - val_loss: 3.2964 - val_accuracy: 0.3920\n",
      "Epoch 6/20\n",
      "7982/7982 [==============================] - 0s 45us/step - loss: 3.1355 - accuracy: 0.3955 - val_loss: 3.2338 - val_accuracy: 0.4060\n",
      "Epoch 7/20\n",
      "7982/7982 [==============================] - 0s 45us/step - loss: 3.0504 - accuracy: 0.4060 - val_loss: 3.1781 - val_accuracy: 0.4110\n",
      "Epoch 8/20\n",
      "7982/7982 [==============================] - 0s 44us/step - loss: 2.9679 - accuracy: 0.4162 - val_loss: 3.1311 - val_accuracy: 0.4170\n",
      "Epoch 9/20\n",
      "7982/7982 [==============================] - 0s 43us/step - loss: 2.8717 - accuracy: 0.4181 - val_loss: 3.0484 - val_accuracy: 0.4380\n",
      "Epoch 10/20\n",
      "7982/7982 [==============================] - 0s 44us/step - loss: 2.7490 - accuracy: 0.4127 - val_loss: 2.9000 - val_accuracy: 0.4560\n",
      "Epoch 11/20\n",
      "7982/7982 [==============================] - 0s 44us/step - loss: 2.6035 - accuracy: 0.4189 - val_loss: 2.7857 - val_accuracy: 0.3580\n",
      "Epoch 12/20\n",
      "7982/7982 [==============================] - 0s 45us/step - loss: 2.4501 - accuracy: 0.3141 - val_loss: 2.5970 - val_accuracy: 0.2670\n",
      "Epoch 13/20\n",
      "7982/7982 [==============================] - 0s 47us/step - loss: 2.3030 - accuracy: 0.2472 - val_loss: 2.4474 - val_accuracy: 0.2470\n",
      "Epoch 14/20\n",
      "7982/7982 [==============================] - 0s 44us/step - loss: 2.1590 - accuracy: 0.2335 - val_loss: 2.3361 - val_accuracy: 0.2410\n",
      "Epoch 15/20\n",
      "7982/7982 [==============================] - 0s 45us/step - loss: 2.0399 - accuracy: 0.2839 - val_loss: 2.2461 - val_accuracy: 0.3930\n",
      "Epoch 16/20\n",
      "7982/7982 [==============================] - 0s 46us/step - loss: 1.9783 - accuracy: 0.4668 - val_loss: 2.2230 - val_accuracy: 0.5040\n",
      "Epoch 17/20\n",
      "7982/7982 [==============================] - 0s 45us/step - loss: 1.9379 - accuracy: 0.5099 - val_loss: 2.2184 - val_accuracy: 0.4880\n",
      "Epoch 18/20\n",
      "7982/7982 [==============================] - 0s 44us/step - loss: 1.9027 - accuracy: 0.5160 - val_loss: 2.1693 - val_accuracy: 0.5180\n",
      "Epoch 19/20\n",
      "7982/7982 [==============================] - 0s 44us/step - loss: 1.8733 - accuracy: 0.5252 - val_loss: 2.1281 - val_accuracy: 0.5230\n",
      "Epoch 20/20\n",
      "7982/7982 [==============================] - 0s 45us/step - loss: 1.8472 - accuracy: 0.5297 - val_loss: 2.0938 - val_accuracy: 0.5270\n"
     ]
    },
    {
     "data": {
      "image/png": "[encoded data removed]",
      "text/plain": [
       "<Figure size 432x288 with 1 Axes>"
      ]
     },
     "metadata": {
      "needs_background": "light"
     },
     "output_type": "display_data"
    },
    {
     "data": {
      "image/png": "[encoded data removed]",
      "text/plain": [
       "<Figure size 432x288 with 1 Axes>"
      ]
     },
     "metadata": {
      "needs_background": "light"
     },
     "output_type": "display_data"
    }
   ],
   "source": [
    "# 1 middle unit\n",
    "model = models.Sequential()\n",
    "model.add(layers.Dense(64, activation='relu', input_shape=(10000,)))\n",
    "model.add(layers.Dense(1, activation='relu'))\n",
    "model.add(layers.Dense(46, activation='softmax'))\n",
    "\n",
    "model.compile(optimizer='rmsprop',\n",
    "              loss='categorical_crossentropy',\n",
    "              metrics=['accuracy'])\n",
    "history = model.fit(partial_x_train,\n",
    "          partial_y_train,\n",
    "          epochs=20,\n",
    "          batch_size=128,\n",
    "          validation_data=(x_val, y_val))\n",
    "\n",
    "loss = history.history['loss']\n",
    "val_loss = history.history['val_loss']\n",
    "\n",
    "epochs = range(1, len(loss) + 1)\n",
    "\n",
    "plt.plot(epochs, loss, 'bo', label='Training loss')\n",
    "plt.plot(epochs, val_loss, 'b', label='Validation loss')\n",
    "plt.title('Training and validation loss')\n",
    "plt.xlabel('Epochs')\n",
    "plt.ylabel('Loss')\n",
    "plt.legend()\n",
    "\n",
    "plt.show()\n",
    "\n",
    "plt.clf()   # clear figure\n",
    "\n",
    "acc = history.history['accuracy']\n",
    "val_acc = history.history['val_accuracy']\n",
    "\n",
    "plt.plot(epochs, acc, 'bo', label='Training acc')\n",
    "plt.plot(epochs, val_acc, 'b', label='Validation acc')\n",
    "plt.title('Training and validation accuracy')\n",
    "plt.xlabel('Epochs')\n",
    "plt.ylabel('Loss')\n",
    "plt.legend()\n",
    "\n",
    "plt.show()"
   ]
  },
  {
   "cell_type": "code",
   "execution_count": 27,
   "metadata": {
    "scrolled": true
   },
   "outputs": [
    {
     "name": "stdout",
     "output_type": "stream",
     "text": [
      "Train on 7982 samples, validate on 1000 samples\n",
      "Epoch 1/20\n",
      "7982/7982 [==============================] - 0s 57us/step - loss: 1.9504 - accuracy: 0.6032 - val_loss: 1.3323 - val_accuracy: 0.7080\n",
      "Epoch 2/20\n",
      "7982/7982 [==============================] - 0s 50us/step - loss: 1.0671 - accuracy: 0.7652 - val_loss: 1.0694 - val_accuracy: 0.7760\n",
      "Epoch 3/20\n",
      "7982/7982 [==============================] - 0s 45us/step - loss: 0.7464 - accuracy: 0.8355 - val_loss: 0.9615 - val_accuracy: 0.7960\n",
      "Epoch 4/20\n",
      "7982/7982 [==============================] - 0s 44us/step - loss: 0.5335 - accuracy: 0.8861 - val_loss: 0.9412 - val_accuracy: 0.8080\n",
      "Epoch 5/20\n",
      "7982/7982 [==============================] - 0s 46us/step - loss: 0.3880 - accuracy: 0.9169 - val_loss: 1.0101 - val_accuracy: 0.7810\n",
      "Epoch 6/20\n",
      "7982/7982 [==============================] - 0s 44us/step - loss: 0.3002 - accuracy: 0.9349 - val_loss: 0.9985 - val_accuracy: 0.7940\n",
      "Epoch 7/20\n",
      "7982/7982 [==============================] - 0s 45us/step - loss: 0.2400 - accuracy: 0.9459 - val_loss: 0.9770 - val_accuracy: 0.8190\n",
      "Epoch 8/20\n",
      "7982/7982 [==============================] - 0s 45us/step - loss: 0.1992 - accuracy: 0.9520 - val_loss: 0.9892 - val_accuracy: 0.8070\n",
      "Epoch 9/20\n",
      "7982/7982 [==============================] - 0s 43us/step - loss: 0.1814 - accuracy: 0.9506 - val_loss: 1.1005 - val_accuracy: 0.7880\n",
      "Epoch 10/20\n",
      "7982/7982 [==============================] - 0s 44us/step - loss: 0.1569 - accuracy: 0.9551 - val_loss: 1.0646 - val_accuracy: 0.8060\n",
      "Epoch 11/20\n",
      "7982/7982 [==============================] - 0s 44us/step - loss: 0.1464 - accuracy: 0.9548 - val_loss: 1.0951 - val_accuracy: 0.8070\n",
      "Epoch 12/20\n",
      "7982/7982 [==============================] - 0s 44us/step - loss: 0.1426 - accuracy: 0.9551 - val_loss: 1.1391 - val_accuracy: 0.7990\n",
      "Epoch 13/20\n",
      "7982/7982 [==============================] - 0s 45us/step - loss: 0.1361 - accuracy: 0.9559 - val_loss: 1.1024 - val_accuracy: 0.8080\n",
      "Epoch 14/20\n",
      "7982/7982 [==============================] - 0s 50us/step - loss: 0.1309 - accuracy: 0.9553 - val_loss: 1.1953 - val_accuracy: 0.7990\n",
      "Epoch 15/20\n",
      "7982/7982 [==============================] - 0s 46us/step - loss: 0.1243 - accuracy: 0.9570 - val_loss: 1.2508 - val_accuracy: 0.7850\n",
      "Epoch 16/20\n",
      "7982/7982 [==============================] - 0s 44us/step - loss: 0.1218 - accuracy: 0.9567 - val_loss: 1.3236 - val_accuracy: 0.7880\n",
      "Epoch 17/20\n",
      "7982/7982 [==============================] - 0s 44us/step - loss: 0.1185 - accuracy: 0.9558 - val_loss: 1.2363 - val_accuracy: 0.7970\n",
      "Epoch 18/20\n",
      "7982/7982 [==============================] - 0s 46us/step - loss: 0.1135 - accuracy: 0.9579 - val_loss: 1.3187 - val_accuracy: 0.7860\n",
      "Epoch 19/20\n",
      "7982/7982 [==============================] - 0s 48us/step - loss: 0.1148 - accuracy: 0.9551 - val_loss: 1.2496 - val_accuracy: 0.7970\n",
      "Epoch 20/20\n",
      "7982/7982 [==============================] - 0s 45us/step - loss: 0.1155 - accuracy: 0.9558 - val_loss: 1.2925 - val_accuracy: 0.7930\n"
     ]
    },
    {
     "data": {
      "image/png": "[encoded data removed]",
      "text/plain": [
       "<Figure size 432x288 with 1 Axes>"
      ]
     },
     "metadata": {
      "needs_background": "light"
     },
     "output_type": "display_data"
    },
    {
     "data": {
      "image/png": "[encoded data removed]",
      "text/plain": [
       "<Figure size 432x288 with 1 Axes>"
      ]
     },
     "metadata": {
      "needs_background": "light"
     },
     "output_type": "display_data"
    }
   ],
   "source": [
    "# 32 middle unit\n",
    "model = models.Sequential()\n",
    "model.add(layers.Dense(64, activation='relu', input_shape=(10000,)))\n",
    "model.add(layers.Dense(32, activation='relu'))\n",
    "model.add(layers.Dense(46, activation='softmax'))\n",
    "\n",
    "model.compile(optimizer='rmsprop',\n",
    "              loss='categorical_crossentropy',\n",
    "              metrics=['accuracy'])\n",
    "history = model.fit(partial_x_train,\n",
    "          partial_y_train,\n",
    "          epochs=20,\n",
    "          batch_size=128,\n",
    "          validation_data=(x_val, y_val))\n",
    "\n",
    "loss = history.history['loss']\n",
    "val_loss = history.history['val_loss']\n",
    "\n",
    "epochs = range(1, len(loss) + 1)\n",
    "\n",
    "plt.plot(epochs, loss, 'bo', label='Training loss')\n",
    "plt.plot(epochs, val_loss, 'b', label='Validation loss')\n",
    "plt.title('Training and validation loss')\n",
    "plt.xlabel('Epochs')\n",
    "plt.ylabel('Loss')\n",
    "plt.legend()\n",
    "\n",
    "plt.show()\n",
    "\n",
    "plt.clf()   # clear figure\n",
    "\n",
    "acc = history.history['accuracy']\n",
    "val_acc = history.history['val_accuracy']\n",
    "\n",
    "plt.plot(epochs, acc, 'bo', label='Training acc')\n",
    "plt.plot(epochs, val_acc, 'b', label='Validation acc')\n",
    "plt.title('Training and validation accuracy')\n",
    "plt.xlabel('Epochs')\n",
    "plt.ylabel('Loss')\n",
    "plt.legend()\n",
    "\n",
    "plt.show()"
   ]
  },
  {
   "cell_type": "code",
   "execution_count": 28,
   "metadata": {
    "scrolled": true
   },
   "outputs": [
    {
     "name": "stdout",
     "output_type": "stream",
     "text": [
      "Train on 7982 samples, validate on 1000 samples\n",
      "Epoch 1/20\n",
      "7982/7982 [==============================] - 0s 56us/step - loss: 1.7492 - accuracy: 0.6269 - val_loss: 1.1866 - val_accuracy: 0.7320\n",
      "Epoch 2/20\n",
      "7982/7982 [==============================] - 0s 48us/step - loss: 0.9184 - accuracy: 0.7989 - val_loss: 1.0253 - val_accuracy: 0.7820\n",
      "Epoch 3/20\n",
      "7982/7982 [==============================] - 0s 51us/step - loss: 0.5974 - accuracy: 0.8708 - val_loss: 0.9621 - val_accuracy: 0.7810\n",
      "Epoch 4/20\n",
      "7982/7982 [==============================] - 0s 53us/step - loss: 0.4054 - accuracy: 0.9128 - val_loss: 0.8814 - val_accuracy: 0.8120\n",
      "Epoch 5/20\n",
      "7982/7982 [==============================] - 0s 51us/step - loss: 0.2970 - accuracy: 0.9328 - val_loss: 0.9732 - val_accuracy: 0.8000\n",
      "Epoch 6/20\n",
      "7982/7982 [==============================] - 0s 51us/step - loss: 0.2348 - accuracy: 0.9434 - val_loss: 0.9046 - val_accuracy: 0.8220\n",
      "Epoch 7/20\n",
      "7982/7982 [==============================] - 0s 50us/step - loss: 0.1941 - accuracy: 0.9488 - val_loss: 0.9739 - val_accuracy: 0.8200\n",
      "Epoch 8/20\n",
      "7982/7982 [==============================] - 0s 49us/step - loss: 0.1710 - accuracy: 0.9529 - val_loss: 0.9737 - val_accuracy: 0.8250\n",
      "Epoch 9/20\n",
      "7982/7982 [==============================] - 0s 49us/step - loss: 0.1600 - accuracy: 0.9554 - val_loss: 1.0839 - val_accuracy: 0.8080\n",
      "Epoch 10/20\n",
      "7982/7982 [==============================] - 0s 49us/step - loss: 0.1430 - accuracy: 0.9575 - val_loss: 1.1397 - val_accuracy: 0.8040\n",
      "Epoch 11/20\n",
      "7982/7982 [==============================] - 0s 48us/step - loss: 0.1400 - accuracy: 0.9548 - val_loss: 1.0915 - val_accuracy: 0.8000\n",
      "Epoch 12/20\n",
      "7982/7982 [==============================] - 0s 51us/step - loss: 0.1363 - accuracy: 0.9544 - val_loss: 1.0464 - val_accuracy: 0.8070\n",
      "Epoch 13/20\n",
      "7982/7982 [==============================] - 0s 49us/step - loss: 0.1240 - accuracy: 0.9570 - val_loss: 1.1237 - val_accuracy: 0.8170\n",
      "Epoch 14/20\n",
      "7982/7982 [==============================] - 0s 49us/step - loss: 0.1241 - accuracy: 0.9555 - val_loss: 1.1426 - val_accuracy: 0.7980\n",
      "Epoch 15/20\n",
      "7982/7982 [==============================] - 0s 49us/step - loss: 0.1167 - accuracy: 0.9562 - val_loss: 1.1436 - val_accuracy: 0.7990\n",
      "Epoch 16/20\n",
      "7982/7982 [==============================] - 0s 48us/step - loss: 0.1125 - accuracy: 0.9559 - val_loss: 1.1189 - val_accuracy: 0.8060\n",
      "Epoch 17/20\n",
      "7982/7982 [==============================] - 0s 49us/step - loss: 0.1098 - accuracy: 0.9579 - val_loss: 1.1923 - val_accuracy: 0.7930\n",
      "Epoch 18/20\n",
      "7982/7982 [==============================] - 0s 48us/step - loss: 0.1045 - accuracy: 0.9582 - val_loss: 1.2314 - val_accuracy: 0.7980\n",
      "Epoch 19/20\n",
      "7982/7982 [==============================] - 0s 48us/step - loss: 0.1023 - accuracy: 0.9572 - val_loss: 1.2804 - val_accuracy: 0.7920\n",
      "Epoch 20/20\n",
      "7982/7982 [==============================] - 0s 48us/step - loss: 0.1017 - accuracy: 0.9564 - val_loss: 1.2756 - val_accuracy: 0.7930\n"
     ]
    },
    {
     "data": {
      "image/png": "[encoded data removed]",
      "text/plain": [
       "<Figure size 432x288 with 1 Axes>"
      ]
     },
     "metadata": {
      "needs_background": "light"
     },
     "output_type": "display_data"
    },
    {
     "data": {
      "image/png": "[encoded data removed]",
      "text/plain": [
       "<Figure size 432x288 with 1 Axes>"
      ]
     },
     "metadata": {
      "needs_background": "light"
     },
     "output_type": "display_data"
    }
   ],
   "source": [
    "# 128 middle unit\n",
    "model = models.Sequential()\n",
    "model.add(layers.Dense(64, activation='relu', input_shape=(10000,)))\n",
    "model.add(layers.Dense(128, activation='relu'))\n",
    "model.add(layers.Dense(46, activation='softmax'))\n",
    "\n",
    "model.compile(optimizer='rmsprop',\n",
    "              loss='categorical_crossentropy',\n",
    "              metrics=['accuracy'])\n",
    "history = model.fit(partial_x_train,\n",
    "          partial_y_train,\n",
    "          epochs=20,\n",
    "          batch_size=128,\n",
    "          validation_data=(x_val, y_val))\n",
    "\n",
    "loss = history.history['loss']\n",
    "val_loss = history.history['val_loss']\n",
    "\n",
    "epochs = range(1, len(loss) + 1)\n",
    "\n",
    "plt.plot(epochs, loss, 'bo', label='Training loss')\n",
    "plt.plot(epochs, val_loss, 'b', label='Validation loss')\n",
    "plt.title('Training and validation loss')\n",
    "plt.xlabel('Epochs')\n",
    "plt.ylabel('Loss')\n",
    "plt.legend()\n",
    "\n",
    "plt.show()\n",
    "\n",
    "plt.clf()   # clear figure\n",
    "\n",
    "acc = history.history['accuracy']\n",
    "val_acc = history.history['val_accuracy']\n",
    "\n",
    "plt.plot(epochs, acc, 'bo', label='Training acc')\n",
    "plt.plot(epochs, val_acc, 'b', label='Validation acc')\n",
    "plt.title('Training and validation accuracy')\n",
    "plt.xlabel('Epochs')\n",
    "plt.ylabel('Loss')\n",
    "plt.legend()\n",
    "\n",
    "plt.show()"
   ]
  },
  {
   "cell_type": "code",
   "execution_count": 29,
   "metadata": {
    "scrolled": true
   },
   "outputs": [
    {
     "name": "stdout",
     "output_type": "stream",
     "text": [
      "Train on 7982 samples, validate on 1000 samples\n",
      "Epoch 1/20\n",
      "7982/7982 [==============================] - 0s 53us/step - loss: 1.6865 - accuracy: 0.6352 - val_loss: 1.2535 - val_accuracy: 0.6980\n",
      "Epoch 2/20\n",
      "7982/7982 [==============================] - 0s 49us/step - loss: 0.8902 - accuracy: 0.8029 - val_loss: 0.9507 - val_accuracy: 0.7890\n",
      "Epoch 3/20\n",
      "7982/7982 [==============================] - 0s 50us/step - loss: 0.5708 - accuracy: 0.8717 - val_loss: 0.8929 - val_accuracy: 0.8050\n",
      "Epoch 4/20\n",
      "7982/7982 [==============================] - 0s 50us/step - loss: 0.3781 - accuracy: 0.9174 - val_loss: 0.8958 - val_accuracy: 0.8100\n",
      "Epoch 5/20\n",
      "7982/7982 [==============================] - 0s 50us/step - loss: 0.2691 - accuracy: 0.9354 - val_loss: 0.9846 - val_accuracy: 0.8050\n",
      "Epoch 6/20\n",
      "7982/7982 [==============================] - 0s 50us/step - loss: 0.2127 - accuracy: 0.9464 - val_loss: 1.0167 - val_accuracy: 0.8080\n",
      "Epoch 7/20\n",
      "7982/7982 [==============================] - 0s 51us/step - loss: 0.1847 - accuracy: 0.9494 - val_loss: 0.9827 - val_accuracy: 0.8210\n",
      "Epoch 8/20\n",
      "7982/7982 [==============================] - 0s 50us/step - loss: 0.1607 - accuracy: 0.9550 - val_loss: 1.1425 - val_accuracy: 0.7880\n",
      "Epoch 9/20\n",
      "7982/7982 [==============================] - 0s 49us/step - loss: 0.1500 - accuracy: 0.9541 - val_loss: 0.9955 - val_accuracy: 0.8080\n",
      "Epoch 10/20\n",
      "7982/7982 [==============================] - 0s 50us/step - loss: 0.1380 - accuracy: 0.9548 - val_loss: 1.0813 - val_accuracy: 0.8150\n",
      "Epoch 11/20\n",
      "7982/7982 [==============================] - 0s 52us/step - loss: 0.1306 - accuracy: 0.9559 - val_loss: 1.0846 - val_accuracy: 0.8060\n",
      "Epoch 12/20\n",
      "7982/7982 [==============================] - 0s 51us/step - loss: 0.1239 - accuracy: 0.9554 - val_loss: 1.1133 - val_accuracy: 0.8080\n",
      "Epoch 13/20\n",
      "7982/7982 [==============================] - 0s 51us/step - loss: 0.1171 - accuracy: 0.9551 - val_loss: 1.1489 - val_accuracy: 0.7960\n",
      "Epoch 14/20\n",
      "7982/7982 [==============================] - 0s 51us/step - loss: 0.1134 - accuracy: 0.9554 - val_loss: 1.1975 - val_accuracy: 0.8060\n",
      "Epoch 15/20\n",
      "7982/7982 [==============================] - 0s 51us/step - loss: 0.1071 - accuracy: 0.9569 - val_loss: 1.2043 - val_accuracy: 0.7960\n",
      "Epoch 16/20\n",
      "7982/7982 [==============================] - 0s 49us/step - loss: 0.0997 - accuracy: 0.9569 - val_loss: 1.3406 - val_accuracy: 0.7910\n",
      "Epoch 17/20\n",
      "7982/7982 [==============================] - 0s 49us/step - loss: 0.0982 - accuracy: 0.9563 - val_loss: 1.3533 - val_accuracy: 0.7920\n",
      "Epoch 18/20\n",
      "7982/7982 [==============================] - 0s 49us/step - loss: 0.0938 - accuracy: 0.9587 - val_loss: 1.3777 - val_accuracy: 0.7840\n",
      "Epoch 19/20\n",
      "7982/7982 [==============================] - 0s 51us/step - loss: 0.0944 - accuracy: 0.9563 - val_loss: 1.3987 - val_accuracy: 0.7990\n",
      "Epoch 20/20\n",
      "7982/7982 [==============================] - 0s 52us/step - loss: 0.0896 - accuracy: 0.9577 - val_loss: 1.5020 - val_accuracy: 0.8050\n"
     ]
    },
    {
     "data": {
      "image/png": "[encoded data removed]",
      "text/plain": [
       "<Figure size 432x288 with 1 Axes>"
      ]
     },
     "metadata": {
      "needs_background": "light"
     },
     "output_type": "display_data"
    },
    {
     "data": {
      "image/png": "[encoded data removed]",
      "text/plain": [
       "<Figure size 432x288 with 1 Axes>"
      ]
     },
     "metadata": {
      "needs_background": "light"
     },
     "output_type": "display_data"
    }
   ],
   "source": [
    "# 256 middle unit\n",
    "model = models.Sequential()\n",
    "model.add(layers.Dense(64, activation='relu', input_shape=(10000,)))\n",
    "model.add(layers.Dense(256, activation='relu'))\n",
    "model.add(layers.Dense(46, activation='softmax'))\n",
    "\n",
    "model.compile(optimizer='rmsprop',\n",
    "              loss='categorical_crossentropy',\n",
    "              metrics=['accuracy'])\n",
    "history = model.fit(partial_x_train,\n",
    "          partial_y_train,\n",
    "          epochs=20,\n",
    "          batch_size=128,\n",
    "          validation_data=(x_val, y_val))\n",
    "\n",
    "loss = history.history['loss']\n",
    "val_loss = history.history['val_loss']\n",
    "\n",
    "epochs = range(1, len(loss) + 1)\n",
    "\n",
    "plt.plot(epochs, loss, 'bo', label='Training loss')\n",
    "plt.plot(epochs, val_loss, 'b', label='Validation loss')\n",
    "plt.title('Training and validation loss')\n",
    "plt.xlabel('Epochs')\n",
    "plt.ylabel('Loss')\n",
    "plt.legend()\n",
    "\n",
    "plt.show()\n",
    "\n",
    "plt.clf()   # clear figure\n",
    "\n",
    "acc = history.history['accuracy']\n",
    "val_acc = history.history['val_accuracy']\n",
    "\n",
    "plt.plot(epochs, acc, 'bo', label='Training acc')\n",
    "plt.plot(epochs, val_acc, 'b', label='Validation acc')\n",
    "plt.title('Training and validation accuracy')\n",
    "plt.xlabel('Epochs')\n",
    "plt.ylabel('Loss')\n",
    "plt.legend()\n",
    "\n",
    "plt.show()"
   ]
  },
  {
   "cell_type": "code",
   "execution_count": 30,
   "metadata": {
    "scrolled": true
   },
   "outputs": [
    {
     "name": "stdout",
     "output_type": "stream",
     "text": [
      "Train on 7982 samples, validate on 1000 samples\n",
      "Epoch 1/20\n",
      "7982/7982 [==============================] - 0s 51us/step - loss: 1.8799 - accuracy: 0.6584 - val_loss: 1.2188 - val_accuracy: 0.7340\n",
      "Epoch 2/20\n",
      "7982/7982 [==============================] - 0s 46us/step - loss: 0.9399 - accuracy: 0.8053 - val_loss: 0.9740 - val_accuracy: 0.8010\n",
      "Epoch 3/20\n",
      "7982/7982 [==============================] - 0s 46us/step - loss: 0.6365 - accuracy: 0.8685 - val_loss: 0.8664 - val_accuracy: 0.8190\n",
      "Epoch 4/20\n",
      "7982/7982 [==============================] - 0s 44us/step - loss: 0.4534 - accuracy: 0.9054 - val_loss: 0.8108 - val_accuracy: 0.8280\n",
      "Epoch 5/20\n",
      "7982/7982 [==============================] - 0s 46us/step - loss: 0.3375 - accuracy: 0.9272 - val_loss: 0.8032 - val_accuracy: 0.8320\n",
      "Epoch 6/20\n",
      "7982/7982 [==============================] - 0s 48us/step - loss: 0.2647 - accuracy: 0.9410 - val_loss: 0.8353 - val_accuracy: 0.8190\n",
      "Epoch 7/20\n",
      "7982/7982 [==============================] - 0s 46us/step - loss: 0.2158 - accuracy: 0.9465 - val_loss: 0.8243 - val_accuracy: 0.8290\n",
      "Epoch 8/20\n",
      "7982/7982 [==============================] - 0s 47us/step - loss: 0.1833 - accuracy: 0.9503 - val_loss: 0.8409 - val_accuracy: 0.8230\n",
      "Epoch 9/20\n",
      "7982/7982 [==============================] - 0s 44us/step - loss: 0.1614 - accuracy: 0.9538 - val_loss: 0.8771 - val_accuracy: 0.8230\n",
      "Epoch 10/20\n",
      "7982/7982 [==============================] - 0s 47us/step - loss: 0.1468 - accuracy: 0.9569 - val_loss: 0.9286 - val_accuracy: 0.8150\n",
      "Epoch 11/20\n",
      "7982/7982 [==============================] - 0s 48us/step - loss: 0.1359 - accuracy: 0.9577 - val_loss: 0.9331 - val_accuracy: 0.8190\n",
      "Epoch 12/20\n",
      "7982/7982 [==============================] - 0s 46us/step - loss: 0.1292 - accuracy: 0.9567 - val_loss: 0.9861 - val_accuracy: 0.8080\n",
      "Epoch 13/20\n",
      "7982/7982 [==============================] - 0s 45us/step - loss: 0.1254 - accuracy: 0.9553 - val_loss: 1.0126 - val_accuracy: 0.8040\n",
      "Epoch 14/20\n",
      "7982/7982 [==============================] - 0s 47us/step - loss: 0.1181 - accuracy: 0.9567 - val_loss: 1.0298 - val_accuracy: 0.8140\n",
      "Epoch 15/20\n",
      "7982/7982 [==============================] - 0s 46us/step - loss: 0.1148 - accuracy: 0.9573 - val_loss: 1.0292 - val_accuracy: 0.8080\n",
      "Epoch 16/20\n",
      "7982/7982 [==============================] - 0s 44us/step - loss: 0.1149 - accuracy: 0.9575 - val_loss: 1.0724 - val_accuracy: 0.8040\n",
      "Epoch 17/20\n",
      "7982/7982 [==============================] - 0s 47us/step - loss: 0.1067 - accuracy: 0.9560 - val_loss: 1.0997 - val_accuracy: 0.8020\n",
      "Epoch 18/20\n",
      "7982/7982 [==============================] - 0s 47us/step - loss: 0.1060 - accuracy: 0.9577 - val_loss: 1.1117 - val_accuracy: 0.8130\n",
      "Epoch 19/20\n",
      "7982/7982 [==============================] - 0s 46us/step - loss: 0.1065 - accuracy: 0.9564 - val_loss: 1.1336 - val_accuracy: 0.8060\n",
      "Epoch 20/20\n",
      "7982/7982 [==============================] - 0s 46us/step - loss: 0.1050 - accuracy: 0.9559 - val_loss: 1.1897 - val_accuracy: 0.7990\n"
     ]
    },
    {
     "data": {
      "image/png": "[encoded data removed]",
      "text/plain": [
       "<Figure size 432x288 with 1 Axes>"
      ]
     },
     "metadata": {
      "needs_background": "light"
     },
     "output_type": "display_data"
    },
    {
     "data": {
      "image/png": "[encoded data removed]",
      "text/plain": [
       "<Figure size 432x288 with 1 Axes>"
      ]
     },
     "metadata": {
      "needs_background": "light"
     },
     "output_type": "display_data"
    }
   ],
   "source": [
    "# 1 hidden layer \n",
    "model = models.Sequential()\n",
    "model.add(layers.Dense(64, activation='relu', input_shape=(10000,)))\n",
    "#model.add(layers.Dense(1, activation='relu'))\n",
    "model.add(layers.Dense(46, activation='softmax'))\n",
    "\n",
    "model.compile(optimizer='rmsprop',\n",
    "              loss='categorical_crossentropy',\n",
    "              metrics=['accuracy'])\n",
    "history = model.fit(partial_x_train,\n",
    "          partial_y_train,\n",
    "          epochs=20,\n",
    "          batch_size=128,\n",
    "          validation_data=(x_val, y_val))\n",
    "\n",
    "loss = history.history['loss']\n",
    "val_loss = history.history['val_loss']\n",
    "\n",
    "epochs = range(1, len(loss) + 1)\n",
    "\n",
    "plt.plot(epochs, loss, 'bo', label='Training loss')\n",
    "plt.plot(epochs, val_loss, 'b', label='Validation loss')\n",
    "plt.title('Training and validation loss')\n",
    "plt.xlabel('Epochs')\n",
    "plt.ylabel('Loss')\n",
    "plt.legend()\n",
    "\n",
    "plt.show()\n",
    "\n",
    "plt.clf()   # clear figure\n",
    "\n",
    "acc = history.history['accuracy']\n",
    "val_acc = history.history['val_accuracy']\n",
    "\n",
    "plt.plot(epochs, acc, 'bo', label='Training acc')\n",
    "plt.plot(epochs, val_acc, 'b', label='Validation acc')\n",
    "plt.title('Training and validation accuracy')\n",
    "plt.xlabel('Epochs')\n",
    "plt.ylabel('Loss')\n",
    "plt.legend()\n",
    "\n",
    "plt.show()"
   ]
  },
  {
   "cell_type": "code",
   "execution_count": 31,
   "metadata": {
    "scrolled": true
   },
   "outputs": [
    {
     "name": "stdout",
     "output_type": "stream",
     "text": [
      "Train on 7982 samples, validate on 1000 samples\n",
      "Epoch 1/20\n",
      "7982/7982 [==============================] - 0s 54us/step - loss: 1.8099 - accuracy: 0.6130 - val_loss: 1.2623 - val_accuracy: 0.7140\n",
      "Epoch 2/20\n",
      "7982/7982 [==============================] - 0s 45us/step - loss: 1.0035 - accuracy: 0.7690 - val_loss: 1.0633 - val_accuracy: 0.7660\n",
      "Epoch 3/20\n",
      "7982/7982 [==============================] - 0s 46us/step - loss: 0.6785 - accuracy: 0.8441 - val_loss: 0.9394 - val_accuracy: 0.8110\n",
      "Epoch 4/20\n",
      "7982/7982 [==============================] - 0s 47us/step - loss: 0.4669 - accuracy: 0.8945 - val_loss: 1.0688 - val_accuracy: 0.7730\n",
      "Epoch 5/20\n",
      "7982/7982 [==============================] - 0s 46us/step - loss: 0.3329 - accuracy: 0.9281 - val_loss: 1.0812 - val_accuracy: 0.7930\n",
      "Epoch 6/20\n",
      "7982/7982 [==============================] - 0s 46us/step - loss: 0.2604 - accuracy: 0.9407 - val_loss: 1.1050 - val_accuracy: 0.7940\n",
      "Epoch 7/20\n",
      "7982/7982 [==============================] - ETA: 0s - loss: 0.2096 - accuracy: 0.95 - 0s 46us/step - loss: 0.2122 - accuracy: 0.9500 - val_loss: 1.0782 - val_accuracy: 0.8040\n",
      "Epoch 8/20\n",
      "7982/7982 [==============================] - 0s 47us/step - loss: 0.1805 - accuracy: 0.9525 - val_loss: 1.1359 - val_accuracy: 0.8050\n",
      "Epoch 9/20\n",
      "7982/7982 [==============================] - 0s 46us/step - loss: 0.1655 - accuracy: 0.9531 - val_loss: 1.2671 - val_accuracy: 0.7720\n",
      "Epoch 10/20\n",
      "7982/7982 [==============================] - 0s 49us/step - loss: 0.1512 - accuracy: 0.9531 - val_loss: 1.1608 - val_accuracy: 0.7980\n",
      "Epoch 11/20\n",
      "7982/7982 [==============================] - 0s 47us/step - loss: 0.1397 - accuracy: 0.9560 - val_loss: 1.1951 - val_accuracy: 0.7990\n",
      "Epoch 12/20\n",
      "7982/7982 [==============================] - 0s 47us/step - loss: 0.1352 - accuracy: 0.9572 - val_loss: 1.1790 - val_accuracy: 0.7960\n",
      "Epoch 13/20\n",
      "7982/7982 [==============================] - 0s 46us/step - loss: 0.1284 - accuracy: 0.9564 - val_loss: 1.1759 - val_accuracy: 0.7910\n",
      "Epoch 14/20\n",
      "7982/7982 [==============================] - 0s 45us/step - loss: 0.1234 - accuracy: 0.9540 - val_loss: 1.1745 - val_accuracy: 0.7950\n",
      "Epoch 15/20\n",
      "7982/7982 [==============================] - 0s 47us/step - loss: 0.1160 - accuracy: 0.9572 - val_loss: 1.2610 - val_accuracy: 0.7950\n",
      "Epoch 16/20\n",
      "7982/7982 [==============================] - 0s 46us/step - loss: 0.1109 - accuracy: 0.9575 - val_loss: 1.3303 - val_accuracy: 0.7880\n",
      "Epoch 17/20\n",
      "7982/7982 [==============================] - 0s 48us/step - loss: 0.1082 - accuracy: 0.9570 - val_loss: 1.4302 - val_accuracy: 0.7920\n",
      "Epoch 18/20\n",
      "7982/7982 [==============================] - 0s 49us/step - loss: 0.1020 - accuracy: 0.9562 - val_loss: 1.4025 - val_accuracy: 0.7960\n",
      "Epoch 19/20\n",
      "7982/7982 [==============================] - 0s 49us/step - loss: 0.0993 - accuracy: 0.9564 - val_loss: 1.4152 - val_accuracy: 0.7950\n",
      "Epoch 20/20\n",
      "7982/7982 [==============================] - 0s 45us/step - loss: 0.0981 - accuracy: 0.9583 - val_loss: 1.6265 - val_accuracy: 0.7740\n"
     ]
    },
    {
     "data": {
      "image/png": "[encoded data removed]",
      "text/plain": [
       "<Figure size 432x288 with 1 Axes>"
      ]
     },
     "metadata": {
      "needs_background": "light"
     },
     "output_type": "display_data"
    },
    {
     "data": {
      "image/png": "[encoded data removed]",
      "text/plain": [
       "<Figure size 432x288 with 1 Axes>"
      ]
     },
     "metadata": {
      "needs_background": "light"
     },
     "output_type": "display_data"
    }
   ],
   "source": [
    "# 3 hidden layer \n",
    "model = models.Sequential()\n",
    "model.add(layers.Dense(64, activation='relu', input_shape=(10000,)))\n",
    "model.add(layers.Dense(64, activation='relu'))\n",
    "model.add(layers.Dense(64, activation='relu'))\n",
    "model.add(layers.Dense(46, activation='softmax'))\n",
    "\n",
    "model.compile(optimizer='rmsprop',\n",
    "              loss='categorical_crossentropy',\n",
    "              metrics=['accuracy'])\n",
    "history = model.fit(partial_x_train,\n",
    "          partial_y_train,\n",
    "          epochs=20,\n",
    "          batch_size=128,\n",
    "          validation_data=(x_val, y_val))\n",
    "\n",
    "loss = history.history['loss']\n",
    "val_loss = history.history['val_loss']\n",
    "\n",
    "epochs = range(1, len(loss) + 1)\n",
    "\n",
    "plt.plot(epochs, loss, 'bo', label='Training loss')\n",
    "plt.plot(epochs, val_loss, 'b', label='Validation loss')\n",
    "plt.title('Training and validation loss')\n",
    "plt.xlabel('Epochs')\n",
    "plt.ylabel('Loss')\n",
    "plt.legend()\n",
    "\n",
    "plt.show()\n",
    "\n",
    "plt.clf()   # clear figure\n",
    "\n",
    "acc = history.history['accuracy']\n",
    "val_acc = history.history['val_accuracy']\n",
    "\n",
    "plt.plot(epochs, acc, 'bo', label='Training acc')\n",
    "plt.plot(epochs, val_acc, 'b', label='Validation acc')\n",
    "plt.title('Training and validation accuracy')\n",
    "plt.xlabel('Epochs')\n",
    "plt.ylabel('Loss')\n",
    "plt.legend()\n",
    "\n",
    "plt.show()"
   ]
  },
  {
   "cell_type": "markdown",
   "metadata": {},
   "source": [
    "## Wrapping up\n",
    "\n",
    "\n",
    "Here's what you should take away from this example:\n",
    "\n",
    "* If you are trying to classify data points between N classes, your network should end with a `Dense` layer of size N.\n",
    "* In a single-label, multi-class classification problem, your network should end with a `softmax` activation, so that it will output a \n",
    "probability distribution over the N output classes.\n",
    "* _Categorical crossentropy_ is almost always the loss function you should use for such problems. It minimizes the distance between the \n",
    "probability distributions output by the network, and the true distribution of the targets.\n",
    "* There are two ways to handle labels in multi-class classification:\n",
    "    ** Encoding the labels via \"categorical encoding\" (also known as \"one-hot encoding\") and using `categorical_crossentropy` as your loss \n",
    "function.\n",
    "    ** Encoding the labels as integers and using the `sparse_categorical_crossentropy` loss function.\n",
    "* If you need to classify data into a large number of categories, then you should avoid creating information bottlenecks in your network by having \n",
    "intermediate layers that are too small."
   ]
  }
 ],
 "metadata": {
  "kernelspec": {
   "display_name": "Python 3",
   "language": "python",
   "name": "python3"
  },
  "language_info": {
   "codemirror_mode": {
    "name": "ipython",
    "version": 3
   },
   "file_extension": ".py",
   "mimetype": "text/x-python",
   "name": "python",
   "nbconvert_exporter": "python",
   "pygments_lexer": "ipython3",
   "version": "3.6.9"
  }
 },
 "nbformat": 4,
 "nbformat_minor": 2
}
